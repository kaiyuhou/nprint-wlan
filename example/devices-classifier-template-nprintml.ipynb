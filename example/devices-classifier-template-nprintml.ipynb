{
 "metadata": {
  "language_info": {
   "codemirror_mode": {
    "name": "ipython",
    "version": 3
   },
   "file_extension": ".py",
   "mimetype": "text/x-python",
   "name": "python",
   "nbconvert_exporter": "python",
   "pygments_lexer": "ipython3",
   "version": "3.8.5-final"
  },
  "orig_nbformat": 2,
  "kernelspec": {
   "name": "python3",
   "display_name": "Python 3.8.5 64-bit ('nprint': conda)",
   "metadata": {
    "interpreter": {
     "hash": "c4d4e6586a6adeaf82bcc2769084e4f9c7d78e0c71da8ddfd654da24b07e7fd4"
    }
   }
  }
 },
 "nbformat": 4,
 "nbformat_minor": 2,
 "cells": [
  {
   "source": [
    "## Devices Classifier with nPrintML\n",
    "\n",
    "#### Before execution\n",
    "\n",
    "```bash\n",
    "conda create -n nprint python=3.8\n",
    "conda activate nprint\n",
    "python -m pip install nprintml\n",
    "\n",
    "sudo ln -s ../nprint  /usr/local/bin/nprint\n",
    "```\n",
    "\n",
    "Then we have to slightly modify the nPrintML code base:\n",
    "\n",
    "For file: `~/miniconda3/envs/nprint/lib/python3.8/site-packages/nprintml/net/step.py`\n",
    "Add the folloing python code to L39\n",
    "```python3\n",
    "self.group_parser.add_argument(\n",
    "            '-w', '--wlan',\n",
    "            action='store_true',\n",
    "            help=\"include wlan headers\",\n",
    "        )\n",
    "```"
   ],
   "cell_type": "markdown",
   "metadata": {}
  },
  {
   "cell_type": "code",
   "execution_count": 1,
   "metadata": {},
   "outputs": [],
   "source": [
    "import pandas as pd\n",
    "from mac_vendor import *"
   ]
  },
  {
   "cell_type": "code",
   "execution_count": 2,
   "metadata": {},
   "outputs": [],
   "source": [
    "# generate nprint.npt file\n",
    "filename = 'wlan_2020_11_05_03'\n",
    "\n",
    "filter_cmd = f'tshark -r {filename}.pcap -w {filename}_with_src_mac.pcap \"wlan.ta\"'\n",
    "!{filter_cmd}\n",
    "\n",
    "filename = filename + '_with_src_mac'\n",
    "\n",
    "nprint_cmd = f'../nprint -w -P {filename}.pcap -W {filename}.npt'\n",
    "!{nprint_cmd}\n"
   ]
  },
  {
   "cell_type": "code",
   "execution_count": 3,
   "metadata": {},
   "outputs": [],
   "source": [
    "# Create labels file for nprint ML\n",
    "\n",
    "nprint_wlan = pd.read_csv(f'{filename}.npt', index_col=0)\n",
    "top_10_vendors = get_top_vendors(nprint_wlan, 10)\n",
    "\n",
    "# create labels file\n",
    "labels_path = f'{filename}-vendor-labels.txt'\n",
    "labels_map = {}\n",
    "\n",
    "for mac in nprint_wlan.index:\n",
    "    if mac == 'None': labels_map[mac] = 'None'\n",
    "    else:\n",
    "        vendor = get_vendor(mac)\n",
    "        if vendor in top_10_vendors: labels_map[mac] = vendor\n",
    "        else: labels_map[mac] = 'Others'\n",
    "\n",
    "with open(labels_path, 'w') as f:\n",
    "    f.write('item,label\\n')\n",
    "    for k, v in labels_map.items():\n",
    "        f.write(f'{k},{v}\\n')\n"
   ]
  },
  {
   "cell_type": "code",
   "execution_count": 4,
   "metadata": {},
   "outputs": [
    {
     "output_type": "stream",
     "name": "stdout",
     "text": [
      "[warn] nprint expected version for nprintML (1.1.6) does not match version on PATH (1.0.4 at /usr/local/bin/nprint)\n",
      "step:Net → NetResult(nprint_path=PosixPath('nprintml/run-falcon-1615500625-22534/nprint'))\n",
      "Loading nPrint: nprintml/run-falcon-1615500625-22534/nprint/wlan_2020_11_05_03_with_src_mac.npt\n",
      "Loaded 1 nprint\n",
      "  nPrint shape: (3910, 528)\n",
      "Loading labels: wlan_2020_11_05_03_with_src_mac-vendor-labels.txt\n",
      "  number of labels: 91\n",
      "Attaching labels to nPrints\n",
      "  labels attached: missing labels for:\n",
      "    missing labels caused samples to be dropped: 0\n",
      "step:Label → LabelResult(features=                   radiotap_reversion_0  ...   label\n",
      "06:7f:2c:c3:10:90                     0  ...  Others\n",
      "08:02:8e:ca:ae:73                     0  ...  Others\n",
      "08:02:8e:ca:ae:73                     0  ...  Others\n",
      "08:02:8e:ca:ae:73                     0  ...  Others\n",
      "08:ea:40:f9:0e:44                     0  ...  Others\n",
      "...                                 ...  ...     ...\n",
      "ff:ff:ff:ff:60:e1                     0  ...  Others\n",
      "ff:ff:ff:ff:80:e8                     0  ...  Others\n",
      "ff:ff:ff:ff:b0:e8                     0  ...  Others\n",
      "ff:ff:ff:ff:c0:d9                     0  ...  Others\n",
      "ff:ff:ff:ff:f0:e0                     0  ...  Others\n",
      "\n",
      "[3910 rows x 529 columns])\n",
      "AutoGluon infers your prediction problem is: 'multiclass' (because dtype of label-column == object).\n",
      "\tIf 'multiclass' is not the correct problem_type, please manually specify the problem_type argument in fit() (You may specify problem_type as one of: ['binary', 'multiclass', 'regression'])\n",
      "AutoGluon will gauge predictive performance using evaluation metric: 'accuracy'\n",
      "AutoGluon will early stop models using evaluation metric: 'accuracy'\n",
      "step:Learn → LearnResult(graphs_path=PosixPath('nprintml/run-falcon-1615500625-22534/model/graphs'), models_path=PosixPath('nprintml/run-falcon-1615500625-22534/model/models'))\n",
      "done → namespace(features=                   radiotap_reversion_0  ...   label\n",
      "06:7f:2c:c3:10:90                     0  ...  Others\n",
      "08:02:8e:ca:ae:73                     0  ...  Others\n",
      "08:02:8e:ca:ae:73                     0  ...  Others\n",
      "08:02:8e:ca:ae:73                     0  ...  Others\n",
      "08:ea:40:f9:0e:44                     0  ...  Others\n",
      "...                                 ...  ...     ...\n",
      "ff:ff:ff:ff:60:e1                     0  ...  Others\n",
      "ff:ff:ff:ff:80:e8                     0  ...  Others\n",
      "ff:ff:ff:ff:b0:e8                     0  ...  Others\n",
      "ff:ff:ff:ff:c0:d9                     0  ...  Others\n",
      "ff:ff:ff:ff:f0:e0                     0  ...  Others\n",
      "\n",
      "[3910 rows x 529 columns], graphs_path=PosixPath('nprintml/run-falcon-1615500625-22534/model/graphs'), models_path=PosixPath('nprintml/run-falcon-1615500625-22534/model/models'), nprint_path=PosixPath('nprintml/run-falcon-1615500625-22534/nprint'))\n"
     ]
    }
   ],
   "source": [
    "# Run nprintml\n",
    "nml_cmd = f'nprintml --wlan --pcap-file {filename}.pcap --label-file {labels_path} --aggregator index'\n",
    "!{nml_cmd}"
   ]
  },
  {
   "cell_type": "code",
   "execution_count": null,
   "metadata": {},
   "outputs": [],
   "source": []
  }
 ]
}