{
 "metadata": {
  "language_info": {
   "codemirror_mode": {
    "name": "ipython",
    "version": 3
   },
   "file_extension": ".py",
   "mimetype": "text/x-python",
   "name": "python",
   "nbconvert_exporter": "python",
   "pygments_lexer": "ipython3",
   "version": "3.8.5-final"
  },
  "orig_nbformat": 2,
  "kernelspec": {
   "name": "python3",
   "display_name": "Python 3"
  }
 },
 "nbformat": 4,
 "nbformat_minor": 2,
 "cells": [
  {
   "source": [
    "## Usage\n",
    "Using nPrint: parsing wlan pcap to npt format\n"
   ],
   "cell_type": "markdown",
   "metadata": {}
  },
  {
   "cell_type": "code",
   "execution_count": 1,
   "metadata": {},
   "outputs": [],
   "source": [
    "filename = 'wlan_2020_11_05_03'\n",
    "# cmd_test = f'nprint -w -P {filename}.pcap -W {filename}.npt'\n",
    "cmd_test = f'../nprint -w -P {filename}.pcap -W {filename}.npt'\n",
    "!{cmd_test}"
   ]
  },
  {
   "source": [
    "\n",
    "## Print \n",
    "nPrint-wlan result"
   ],
   "cell_type": "markdown",
   "metadata": {}
  },
  {
   "cell_type": "code",
   "execution_count": 2,
   "metadata": {},
   "outputs": [
    {
     "output_type": "stream",
     "name": "stdout",
     "text": [
      "nPrint_wlan: Number of Packets: 4422, Features per packet: 528\nIndex(['radiotap_reversion_0', 'radiotap_reversion_1', 'radiotap_reversion_2',\n       'radiotap_reversion_3', 'radiotap_reversion_4', 'radiotap_reversion_5',\n       'radiotap_reversion_6', 'radiotap_reversion_7', 'radiotap_pad_0',\n       'radiotap_pad_1',\n       ...\n       'wlan_rx_addr_38', 'wlan_rx_addr_39', 'wlan_rx_addr_40',\n       'wlan_rx_addr_41', 'wlan_rx_addr_42', 'wlan_rx_addr_43',\n       'wlan_rx_addr_44', 'wlan_rx_addr_45', 'wlan_rx_addr_46',\n       'wlan_rx_addr_47'],\n      dtype='object', length=528)\n                   radiotap_reversion_0  radiotap_reversion_1\nsrc_mac                                                      \nf8:bc:0e:53:3d:a9                     0                     0\nf8:bc:0e:53:3d:a3                     0                     0\nf8:bc:0e:53:3d:a6                     0                     0\n"
     ]
    }
   ],
   "source": [
    "import pandas as pd\n",
    "\n",
    "nprint_wlan = pd.read_csv(f'{filename}.npt', index_col=0)\n",
    "\n",
    "print('nPrint_wlan: Number of Packets: {0}, Features per packet: {1}'.format(nprint_wlan.shape[0], nprint_wlan.shape[1]))\n",
    "print(nprint_wlan.columns)\n",
    "print(nprint_wlan.head(3).iloc[:,0:2])"
   ]
  },
  {
   "source": [
    "## Label\n",
    "\n",
    "An example label\n",
    "\n",
    "`sum(radiotap_rate_0:radiotap_rate_3) > 0` indicates if the wlan rate is great than 11Mb/s or not \n",
    "\n",
    "We then remove all the rate related features. Let's see if it works."
   ],
   "cell_type": "markdown",
   "metadata": {}
  },
  {
   "cell_type": "code",
   "execution_count": 3,
   "metadata": {
    "tags": []
   },
   "outputs": [
    {
     "output_type": "stream",
     "name": "stdout",
     "text": [
      "4422, 520\n"
     ]
    }
   ],
   "source": [
    "import numpy as np\n",
    "\n",
    "samples = []\n",
    "labels = []\n",
    "drop_columns = [f'radiotap_rate_{i}' for i in range(8)]\n",
    "\n",
    "for _, row in nprint_wlan.iterrows():\n",
    "    labels.append('>=11Mb/s') if sum(row['radiotap_rate_0':'radiotap_rate_3']) > 0 else labels.append('<11Mb/s')\n",
    "    row.drop(drop_columns, inplace=True)\n",
    "    samples.append(np.array(row))\n",
    "\n",
    "print(f'{len(samples)}, {len(samples[0])}')"
   ]
  },
  {
   "source": [
    "# Training"
   ],
   "cell_type": "markdown",
   "metadata": {}
  },
  {
   "cell_type": "code",
   "execution_count": 4,
   "metadata": {},
   "outputs": [
    {
     "output_type": "stream",
     "name": "stdout",
     "text": [
      "              precision    recall  f1-score   support\n",
      "\n",
      "     <11Mb/s       0.99      0.99      0.99       845\n",
      "    >=11Mb/s       0.97      0.96      0.97       261\n",
      "\n",
      "    accuracy                           0.98      1106\n",
      "   macro avg       0.98      0.97      0.98      1106\n",
      "weighted avg       0.98      0.98      0.98      1106\n",
      "\n",
      "ROC AUC Score: 0.9982180507379446\n"
     ]
    }
   ],
   "source": [
    "from sklearn.model_selection import train_test_split\n",
    "from sklearn.ensemble import RandomForestClassifier\n",
    "from sklearn.metrics import classification_report\n",
    "from sklearn.metrics import roc_auc_score\n",
    "\n",
    "# Split data\n",
    "X_train, X_test, y_train, y_test = train_test_split(samples, labels)\n",
    "\n",
    "# Initialize Classifier\n",
    "clf = RandomForestClassifier(n_estimators=1000, max_depth=None, min_samples_split=2, random_state=0)\n",
    "\n",
    "# Train \n",
    "clf.fit(X_train, y_train) \n",
    "\n",
    "# Predict\n",
    "y_pred = clf.predict(X_test)\n",
    "\n",
    "# Statistics\n",
    "\n",
    "# First, lets get a stat report about the precision and recall:\n",
    "report = classification_report(y_test, y_pred)\n",
    "print(report)\n",
    "\n",
    "# Let's also get the ROC AUC score while we're here, which requires a probability instead of just the prediction\n",
    "y_pred_proba = clf.predict_proba(X_test)\n",
    "# predict_proba gives us a probability estimate of each class, while roc_auc just cares about the \"positive\" class\n",
    "y_pred_proba_pos = [sublist[1] for sublist in y_pred_proba]\n",
    "roc = roc_auc_score(y_test, y_pred_proba_pos)\n",
    "print('ROC AUC Score: {0}'.format(roc))"
   ]
  },
  {
   "source": [
    "## Analysis\n",
    "\n",
    "Understanding the mode\n",
    "\n",
    "Show the most important features"
   ],
   "cell_type": "markdown",
   "metadata": {}
  },
  {
   "cell_type": "code",
   "execution_count": 5,
   "metadata": {},
   "outputs": [
    {
     "output_type": "stream",
     "name": "stdout",
     "text": [
      "('radiotap_antenna_signal_5', 0.0485558038500492)\n('radiotap_channel_1', 0.044220049365283114)\n('wlan_type_5', 0.039731837431827614)\n('radiotap_channel_6', 0.03563846261795648)\n('radiotap_channel_0', 0.03505149489317758)\n('radiotap_antennas_21', 0.0346606331499566)\n('radiotap_channel_2', 0.0333421038991275)\n('radiotap_antennas_20', 0.029048346394381648)\n('radiotap_antenna_signal_4', 0.028237931340483354)\n('radiotap_channel_3', 0.01997868581910432)\n('radiotap_channel_flags_1', 0.01589404999541859)\n('radiotap_timestamp_13', 0.014899643400472493)\n('radiotap_antenna_signal_3', 0.014623286583089923)\n('radiotap_channel_7', 0.014150853190490652)\n('radiotap_channel_4', 0.014011209839497477)\n('radiotap_channel_flags_2', 0.012890521055154579)\n('wlan_rx_addr_38', 0.01223887474071424)\n('radiotap_antennas_5', 0.011695608265088737)\n('wlan_rx_addr_1', 0.011652823759201509)\n('radiotap_antennas_4', 0.01073747822317586)\n"
     ]
    }
   ],
   "source": [
    "# Get Raw feature importances\n",
    "feature_importances = clf.feature_importances_\n",
    "# Match the feature names we know with the importances\n",
    "named_importances = []\n",
    "\n",
    "# Get names for columns\n",
    "columns_list = list(nprint_wlan.columns)\n",
    "columns_list_without_label = columns_list[:columns_list.index('radiotap_rate_0')] \\\n",
    "                           + columns_list[columns_list.index('radiotap_rate_7') + 1:]\n",
    "\n",
    "for column_name, importance in zip(columns_list_without_label, feature_importances):\n",
    "    named_importances.append((column_name, importance))\n",
    "# Sort the named feature importances\n",
    "sorted_feature_importances = sorted(named_importances, key=lambda tup: tup[1], reverse=True)\n",
    "# Now lets print the top 20 important features (bits)\n",
    "print(*sorted_feature_importances[0:20], sep='\\n') "
   ]
  },
  {
   "source": [
    "## Try nPrintML"
   ],
   "cell_type": "markdown",
   "metadata": {}
  },
  {
   "cell_type": "code",
   "execution_count": 11,
   "metadata": {},
   "outputs": [],
   "source": [
    "labels_path = 'rate-labels.txt'\n",
    "\n",
    "labels_map = {}\n",
    "\n",
    "for _, row in nprint_wlan.iterrows():\n",
    "    labels_map[row.name] = '>=11Mb/s' if sum(row['radiotap_rate_0':'radiotap_rate_3']) > 0 else '<11Mb/s'\n",
    "\n",
    "\n",
    "with open(labels_path, 'w') as f:\n",
    "    f.write('item,label\\n')\n",
    "    for k, v in labels_map.items():\n",
    "        f.write(f'{k},{v}\\n')"
   ]
  },
  {
   "cell_type": "code",
   "execution_count": 12,
   "metadata": {},
   "outputs": [
    {
     "output_type": "stream",
     "name": "stdout",
     "text": [
      "[warn] nprint expected version for nprintML (1.1.6) does not match version on PATH (1.0.4 at /usr/local/bin/nprint)\n",
      "step:Net → NetResult(nprint_path=PosixPath('nprintml/run-canary-1614290696-6452/nprint'))\n",
      "Loading nPrint: nprintml/run-canary-1614290696-6452/nprint/wlan_2020_11_05_03.npt\n",
      "Loaded 1 nprint\n",
      "  nPrint shape: (4422, 528)\n",
      "Loading labels: rate-labels.txt\n",
      "  number of labels: 92\n",
      "Attaching labels to nPrints\n",
      "  labels attached: missing labels for:\n",
      "    missing labels caused samples to be dropped: 0\n",
      "step:Label → LabelResult(features=                   radiotap_reversion_0  ...    label\n",
      "06:7f:2c:c3:10:90                     0  ...  <11Mb/s\n",
      "08:02:8e:ca:ae:73                     0  ...  <11Mb/s\n",
      "08:02:8e:ca:ae:73                     0  ...  <11Mb/s\n",
      "08:02:8e:ca:ae:73                     0  ...  <11Mb/s\n",
      "08:ea:40:f9:0e:44                     0  ...  <11Mb/s\n",
      "...                                 ...  ...      ...\n",
      "ff:ff:ff:ff:60:e1                     0  ...  <11Mb/s\n",
      "ff:ff:ff:ff:80:e8                     0  ...  <11Mb/s\n",
      "ff:ff:ff:ff:b0:e8                     0  ...  <11Mb/s\n",
      "ff:ff:ff:ff:c0:d9                     0  ...  <11Mb/s\n",
      "ff:ff:ff:ff:f0:e0                     0  ...  <11Mb/s\n",
      "\n",
      "[4422 rows x 529 columns])\n",
      "AutoGluon infers your prediction problem is: 'binary' (because only two unique label-values observed).\n",
      "\tIf 'binary' is not the correct problem_type, please manually specify the problem_type argument in fit() (You may specify problem_type as one of: ['binary', 'multiclass', 'regression'])\n",
      "AutoGluon will gauge predictive performance using evaluation metric: 'accuracy'\n",
      "AutoGluon will early stop models using evaluation metric: 'accuracy'\n",
      "step:Learn → LearnResult(graphs_path=PosixPath('nprintml/run-canary-1614290696-6452/model/graphs'), models_path=PosixPath('nprintml/run-canary-1614290696-6452/model/models'))\n",
      "done → namespace(features=                   radiotap_reversion_0  ...    label\n",
      "06:7f:2c:c3:10:90                     0  ...  <11Mb/s\n",
      "08:02:8e:ca:ae:73                     0  ...  <11Mb/s\n",
      "08:02:8e:ca:ae:73                     0  ...  <11Mb/s\n",
      "08:02:8e:ca:ae:73                     0  ...  <11Mb/s\n",
      "08:ea:40:f9:0e:44                     0  ...  <11Mb/s\n",
      "...                                 ...  ...      ...\n",
      "ff:ff:ff:ff:60:e1                     0  ...  <11Mb/s\n",
      "ff:ff:ff:ff:80:e8                     0  ...  <11Mb/s\n",
      "ff:ff:ff:ff:b0:e8                     0  ...  <11Mb/s\n",
      "ff:ff:ff:ff:c0:d9                     0  ...  <11Mb/s\n",
      "ff:ff:ff:ff:f0:e0                     0  ...  <11Mb/s\n",
      "\n",
      "[4422 rows x 529 columns], graphs_path=PosixPath('nprintml/run-canary-1614290696-6452/model/graphs'), models_path=PosixPath('nprintml/run-canary-1614290696-6452/model/models'), nprint_path=PosixPath('nprintml/run-canary-1614290696-6452/nprint'))\n"
     ]
    }
   ],
   "source": [
    "pcap_path = 'wlan_2020_11_05_03.pcap'\n",
    "\n",
    "nml_cmd = f'nprintml --wlan --pcap-file {pcap_path} --label-file {labels_path} --aggregator index'\n",
    "!{nml_cmd}"
   ]
  },
  {
   "cell_type": "code",
   "execution_count": null,
   "metadata": {},
   "outputs": [],
   "source": []
  }
 ]
}