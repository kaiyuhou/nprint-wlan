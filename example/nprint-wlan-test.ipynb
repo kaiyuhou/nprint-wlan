{
 "metadata": {
  "language_info": {
   "codemirror_mode": {
    "name": "ipython",
    "version": 3
   },
   "file_extension": ".py",
   "mimetype": "text/x-python",
   "name": "python",
   "nbconvert_exporter": "python",
   "pygments_lexer": "ipython3",
   "version": "3.8.5-final"
  },
  "orig_nbformat": 2,
  "kernelspec": {
   "name": "python3",
   "display_name": "Python 3"
  }
 },
 "nbformat": 4,
 "nbformat_minor": 2,
 "cells": [
  {
   "source": [
    "## Usage\n",
    "Using nPrint: parsing wlan pcap to npt format\n"
   ],
   "cell_type": "markdown",
   "metadata": {}
  },
  {
   "cell_type": "code",
   "execution_count": 12,
   "metadata": {},
   "outputs": [],
   "source": [
    "filename = 'wlan_2020_11_05_03'\n",
    "# cmd_test = f'nprint -w -P {filename}.pcap -W {filename}.npt'\n",
    "cmd_test = f'../nprint -w -P {filename}.pcap -W {filename}.npt'\n",
    "!{cmd_test}"
   ]
  },
  {
   "source": [
    "\n",
    "## Print \n",
    "nPrint-wlan result"
   ],
   "cell_type": "markdown",
   "metadata": {}
  },
  {
   "cell_type": "code",
   "execution_count": 17,
   "metadata": {},
   "outputs": [
    {
     "output_type": "stream",
     "name": "stdout",
     "text": [
      "nPrint_wlan: Number of Packets: 4422, Features per packet: 528\nIndex(['radiotap_reversion_0', 'radiotap_reversion_1', 'radiotap_reversion_2',\n       'radiotap_reversion_3', 'radiotap_reversion_4', 'radiotap_reversion_5',\n       'radiotap_reversion_6', 'radiotap_reversion_7', 'radiotap_pad_0',\n       'radiotap_pad_1',\n       ...\n       'wlan_rx_addr_38', 'wlan_rx_addr_39', 'wlan_rx_addr_40',\n       'wlan_rx_addr_41', 'wlan_rx_addr_42', 'wlan_rx_addr_43',\n       'wlan_rx_addr_44', 'wlan_rx_addr_45', 'wlan_rx_addr_46',\n       'wlan_rx_addr_47'],\n      dtype='object', length=528)\n                   radiotap_reversion_0  radiotap_reversion_1\nsrc_mac                                                      \nf8:bc:0e:53:3d:a9                     0                     0\nf8:bc:0e:53:3d:a3                     0                     0\nf8:bc:0e:53:3d:a6                     0                     0\n"
     ]
    }
   ],
   "source": [
    "import pandas as pd\n",
    "\n",
    "nprint_wlan = pd.read_csv(f'{filename}.npt', index_col=0)\n",
    "\n",
    "print('nPrint_wlan: Number of Packets: {0}, Features per packet: {1}'.format(nprint_wlan.shape[0], nprint_wlan.shape[1]))\n",
    "print(nprint_wlan.columns)\n",
    "print(nprint_wlan.head(3).iloc[:,0:2])"
   ]
  },
  {
   "source": [
    "## Label\n",
    "\n",
    "An example label\n",
    "\n",
    "`sum(radiotap_rate_0:radiotap_rate_3) > 0` indicates if the wlan rate is great than 11Mb/s or not \n",
    "\n",
    "We then remove all the rate related features. Let's see if it works."
   ],
   "cell_type": "markdown",
   "metadata": {}
  },
  {
   "cell_type": "code",
   "execution_count": 35,
   "metadata": {
    "tags": []
   },
   "outputs": [
    {
     "output_type": "stream",
     "name": "stdout",
     "text": [
      "4422, 520\n"
     ]
    }
   ],
   "source": [
    "import numpy as np\n",
    "\n",
    "samples = []\n",
    "labels = []\n",
    "drop_columns = [f'radiotap_rate_{i}' for i in range(8)]\n",
    "\n",
    "for _, row in nprint_wlan.iterrows():\n",
    "    labels.append('>=11Mb/s') if sum(row['radiotap_rate_0':'radiotap_rate_3']) > 0 else labels.append('<11Mb/s')\n",
    "    row.drop(drop_columns, inplace=True)\n",
    "    samples.append(np.array(row))\n",
    "\n",
    "print(f'{len(samples)}, {len(samples[0])}')"
   ]
  },
  {
   "source": [
    "# Training"
   ],
   "cell_type": "markdown",
   "metadata": {}
  },
  {
   "cell_type": "code",
   "execution_count": 36,
   "metadata": {},
   "outputs": [
    {
     "output_type": "stream",
     "name": "stdout",
     "text": [
      "              precision    recall  f1-score   support\n",
      "\n",
      "     <11Mb/s       1.00      0.99      0.99       842\n",
      "    >=11Mb/s       0.97      0.99      0.98       264\n",
      "\n",
      "    accuracy                           0.99      1106\n",
      "   macro avg       0.98      0.99      0.99      1106\n",
      "weighted avg       0.99      0.99      0.99      1106\n",
      "\n",
      "ROC AUC Score: 0.998785359533578\n"
     ]
    }
   ],
   "source": [
    "from sklearn.model_selection import train_test_split\n",
    "from sklearn.ensemble import RandomForestClassifier\n",
    "from sklearn.metrics import classification_report\n",
    "from sklearn.metrics import roc_auc_score\n",
    "\n",
    "# Split data\n",
    "X_train, X_test, y_train, y_test = train_test_split(samples, labels)\n",
    "\n",
    "# Initialize Classifier\n",
    "clf = RandomForestClassifier(n_estimators=1000, max_depth=None, min_samples_split=2, random_state=0)\n",
    "\n",
    "# Train \n",
    "clf.fit(X_train, y_train) \n",
    "\n",
    "# Predict\n",
    "y_pred = clf.predict(X_test)\n",
    "\n",
    "# Statistics\n",
    "\n",
    "# First, lets get a stat report about the precision and recall:\n",
    "report = classification_report(y_test, y_pred)\n",
    "print(report)\n",
    "\n",
    "# Let's also get the ROC AUC score while we're here, which requires a probability instead of just the prediction\n",
    "y_pred_proba = clf.predict_proba(X_test)\n",
    "# predict_proba gives us a probability estimate of each class, while roc_auc just cares about the \"positive\" class\n",
    "y_pred_proba_pos = [sublist[1] for sublist in y_pred_proba]\n",
    "roc = roc_auc_score(y_test, y_pred_proba_pos)\n",
    "print('ROC AUC Score: {0}'.format(roc))"
   ]
  },
  {
   "source": [
    "## Analysis\n",
    "\n",
    "Understanding the mode\n",
    "\n",
    "Show the most important features"
   ],
   "cell_type": "markdown",
   "metadata": {}
  },
  {
   "cell_type": "code",
   "execution_count": 46,
   "metadata": {},
   "outputs": [
    {
     "output_type": "stream",
     "name": "stdout",
     "text": [
      "('radiotap_antenna_signal_5', 0.04559183406685531)\n('wlan_type_5', 0.0406874537695358)\n('radiotap_channel_1', 0.039823019906106885)\n('radiotap_antennas_21', 0.03657433698044621)\n('radiotap_channel_6', 0.03302785146239615)\n('radiotap_channel_2', 0.032216751422944265)\n('radiotap_channel_0', 0.032007263284376065)\n('radiotap_antennas_20', 0.03171922608948194)\n('radiotap_antenna_signal_4', 0.02752257110933658)\n('radiotap_channel_3', 0.01983983676113445)\n('radiotap_channel_flags_2', 0.014910172197495752)\n('radiotap_channel_flags_1', 0.014025092999001967)\n('radiotap_antenna_signal_3', 0.013791612387311719)\n('wlan_rx_addr_38', 0.013589197676271661)\n('radiotap_channel_7', 0.013481508895112765)\n('radiotap_timestamp_13', 0.013086560685436736)\n('wlan_rx_addr_1', 0.012124004329017578)\n('radiotap_antennas_5', 0.011968605803099138)\n('radiotap_channel_4', 0.011589296161615614)\n('wlan_rx_addr_14', 0.010964072000041998)\n"
     ]
    }
   ],
   "source": [
    "# Get Raw feature importances\n",
    "feature_importances = clf.feature_importances_\n",
    "# Match the feature names we know with the importances\n",
    "named_importances = []\n",
    "\n",
    "# Get names for columns\n",
    "columns_list = list(nprint_wlan.columns)\n",
    "columns_list_without_label = columns_list[:columns_list.index('radiotap_rate_0')] \\\n",
    "                           + columns_list[columns_list.index('radiotap_rate_7') + 1:]\n",
    "\n",
    "for column_name, importance in zip(columns_list_without_label, feature_importances):\n",
    "    named_importances.append((column_name, importance))\n",
    "# Sort the named feature importances\n",
    "sorted_feature_importances = sorted(named_importances, key=lambda tup: tup[1], reverse=True)\n",
    "# Now lets print the top 20 important features (bits)\n",
    "print(*sorted_feature_importances[0:20], sep='\\n') "
   ]
  },
  {
   "cell_type": "code",
   "execution_count": null,
   "metadata": {},
   "outputs": [],
   "source": []
  }
 ]
}