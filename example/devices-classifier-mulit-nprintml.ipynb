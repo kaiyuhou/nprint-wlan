{
 "metadata": {
  "language_info": {
   "codemirror_mode": {
    "name": "ipython",
    "version": 3
   },
   "file_extension": ".py",
   "mimetype": "text/x-python",
   "name": "python",
   "nbconvert_exporter": "python",
   "pygments_lexer": "ipython3",
   "version": "3.8.5-final"
  },
  "orig_nbformat": 2,
  "kernelspec": {
   "name": "python3",
   "display_name": "Python 3"
  }
 },
 "nbformat": 4,
 "nbformat_minor": 2,
 "cells": [
  {
   "source": [
    "## Create labels file for nPrintML"
   ],
   "cell_type": "markdown",
   "metadata": {}
  },
  {
   "cell_type": "code",
   "execution_count": 30,
   "metadata": {},
   "outputs": [],
   "source": [
    "import pandas as pd\n",
    "from mac_vendor import *"
   ]
  },
  {
   "cell_type": "code",
   "execution_count": 31,
   "metadata": {},
   "outputs": [],
   "source": [
    "# generate nprint.npt file\n",
    "filename = 'wlan_2020_11_05_03'\n",
    "cmd_test = f'../nprint -w -P {filename}.pcap -W {filename}.npt'\n",
    "!{cmd_test}\n",
    "\n",
    "# get top vendor names\n",
    "nprint_wlan = pd.read_csv(f'{filename}.npt', index_col=0)\n",
    "top_10_vendors = get_top_vendors(nprint_wlan, 10)\n",
    "\n",
    "# create labels file\n",
    "labels_path = f'{filename}-vendor-labels.txt'\n",
    "labels_map = {}\n",
    "\n",
    "for mac in nprint_wlan.index:\n",
    "    if mac == 'None': labels_map[mac] = 'None'\n",
    "    else:\n",
    "        vendor = get_vendor(mac)\n",
    "        if vendor in top_10_vendors: labels_map[mac] = vendor\n",
    "        else: labels_map[mac] = 'Others'\n",
    "\n",
    "with open(labels_path, 'w') as f:\n",
    "    f.write('item,label\\n')\n",
    "    for k, v in labels_map.items():\n",
    "        f.write(f'{k},{v}\\n')"
   ]
  },
  {
   "source": [
    "## Run nPrintML"
   ],
   "cell_type": "markdown",
   "metadata": {}
  },
  {
   "cell_type": "code",
   "execution_count": 33,
   "metadata": {},
   "outputs": [
    {
     "output_type": "stream",
     "name": "stdout",
     "text": [
      "[warn] nprint expected version for nprintML (1.1.6) does not match version on PATH (1.0.4 at /usr/local/bin/nprint)\n",
      "step:Net → NetResult(nprint_path=PosixPath('nprintml/run-dalmation-1614893038-16529/nprint'))\n",
      "Loading nPrint: nprintml/run-dalmation-1614893038-16529/nprint/wlan_2020_11_05_03.npt\n",
      "Loaded 1 nprint\n",
      "  nPrint shape: (4422, 528)\n",
      "Loading labels: wlan_2020_11_05_03-vendor-labels.txt\n",
      "  number of labels: 92\n",
      "Attaching labels to nPrints\n",
      "  labels attached: missing labels for:\n",
      "    missing labels caused samples to be dropped: 0\n",
      "step:Label → LabelResult(features=                   radiotap_reversion_0  ...   label\n",
      "06:7f:2c:c3:10:90                     0  ...  Others\n",
      "08:02:8e:ca:ae:73                     0  ...  Others\n",
      "08:02:8e:ca:ae:73                     0  ...  Others\n",
      "08:02:8e:ca:ae:73                     0  ...  Others\n",
      "08:ea:40:f9:0e:44                     0  ...  Others\n",
      "...                                 ...  ...     ...\n",
      "ff:ff:ff:ff:60:e1                     0  ...  Others\n",
      "ff:ff:ff:ff:80:e8                     0  ...  Others\n",
      "ff:ff:ff:ff:b0:e8                     0  ...  Others\n",
      "ff:ff:ff:ff:c0:d9                     0  ...  Others\n",
      "ff:ff:ff:ff:f0:e0                     0  ...  Others\n",
      "\n",
      "[4422 rows x 529 columns])\n",
      "AutoGluon infers your prediction problem is: 'multiclass' (because dtype of label-column == object).\n",
      "\tIf 'multiclass' is not the correct problem_type, please manually specify the problem_type argument in fit() (You may specify problem_type as one of: ['binary', 'multiclass', 'regression'])\n",
      "AutoGluon will gauge predictive performance using evaluation metric: 'accuracy'\n",
      "AutoGluon will early stop models using evaluation metric: 'accuracy'\n",
      "step:Learn → LearnResult(graphs_path=PosixPath('nprintml/run-dalmation-1614893038-16529/model/graphs'), models_path=PosixPath('nprintml/run-dalmation-1614893038-16529/model/models'))\n",
      "done → namespace(features=                   radiotap_reversion_0  ...   label\n",
      "06:7f:2c:c3:10:90                     0  ...  Others\n",
      "08:02:8e:ca:ae:73                     0  ...  Others\n",
      "08:02:8e:ca:ae:73                     0  ...  Others\n",
      "08:02:8e:ca:ae:73                     0  ...  Others\n",
      "08:ea:40:f9:0e:44                     0  ...  Others\n",
      "...                                 ...  ...     ...\n",
      "ff:ff:ff:ff:60:e1                     0  ...  Others\n",
      "ff:ff:ff:ff:80:e8                     0  ...  Others\n",
      "ff:ff:ff:ff:b0:e8                     0  ...  Others\n",
      "ff:ff:ff:ff:c0:d9                     0  ...  Others\n",
      "ff:ff:ff:ff:f0:e0                     0  ...  Others\n",
      "\n",
      "[4422 rows x 529 columns], graphs_path=PosixPath('nprintml/run-dalmation-1614893038-16529/model/graphs'), models_path=PosixPath('nprintml/run-dalmation-1614893038-16529/model/models'), nprint_path=PosixPath('nprintml/run-dalmation-1614893038-16529/nprint'))\n"
     ]
    }
   ],
   "source": [
    "nml_cmd = f'nprintml --wlan --pcap-file {filename}.pcap --label-file {labels_path} --aggregator index'\n",
    "!{nml_cmd}"
   ]
  },
  {
   "source": [
    "## None SRC MAC Filter before nPrintML"
   ],
   "cell_type": "markdown",
   "metadata": {}
  },
  {
   "cell_type": "code",
   "execution_count": 40,
   "metadata": {},
   "outputs": [],
   "source": [
    "filter_cmd = f'tshark -r {filename}.pcap -w {filename}_with_src_mac.pcap \"wlan.ta\"'\n",
    "!{filter_cmd}"
   ]
  },
  {
   "cell_type": "code",
   "execution_count": 41,
   "metadata": {},
   "outputs": [],
   "source": [
    "# generate nprint.npt file\n",
    "filename = 'wlan_2020_11_05_03_with_src_mac'\n",
    "cmd_test = f'../nprint -w -P {filename}.pcap -W {filename}.npt'\n",
    "!{cmd_test}\n",
    "\n",
    "# get top vendor names\n",
    "nprint_wlan = pd.read_csv(f'{filename}.npt', index_col=0)\n",
    "top_10_vendors = get_top_vendors(nprint_wlan, 10)\n",
    "\n",
    "# create labels file\n",
    "labels_path = f'{filename}-vendor-labels.txt'\n",
    "labels_map = {}\n",
    "\n",
    "for mac in nprint_wlan.index:\n",
    "    if mac == 'None': labels_map[mac] = 'None'\n",
    "    else:\n",
    "        vendor = get_vendor(mac)\n",
    "        if vendor in top_10_vendors: labels_map[mac] = vendor\n",
    "        else: labels_map[mac] = 'Others'\n",
    "\n",
    "with open(labels_path, 'w') as f:\n",
    "    f.write('item,label\\n')\n",
    "    for k, v in labels_map.items():\n",
    "        f.write(f'{k},{v}\\n')"
   ]
  },
  {
   "cell_type": "code",
   "execution_count": 42,
   "metadata": {},
   "outputs": [
    {
     "output_type": "stream",
     "name": "stdout",
     "text": [
      "[warn] nprint expected version for nprintML (1.1.6) does not match version on PATH (1.0.4 at /usr/local/bin/nprint)\n",
      "step:Net → NetResult(nprint_path=PosixPath('nprintml/run-emu-1614895926-28552/nprint'))\n",
      "Loading nPrint: nprintml/run-emu-1614895926-28552/nprint/wlan_2020_11_05_03_with_src_mac.npt\n",
      "Loaded 1 nprint\n",
      "  nPrint shape: (3910, 528)\n",
      "Loading labels: wlan_2020_11_05_03_with_src_mac-vendor-labels.txt\n",
      "  number of labels: 91\n",
      "Attaching labels to nPrints\n",
      "  labels attached: missing labels for:\n",
      "    missing labels caused samples to be dropped: 0\n",
      "step:Label → LabelResult(features=                   radiotap_reversion_0  ...   label\n",
      "06:7f:2c:c3:10:90                     0  ...  Others\n",
      "08:02:8e:ca:ae:73                     0  ...  Others\n",
      "08:02:8e:ca:ae:73                     0  ...  Others\n",
      "08:02:8e:ca:ae:73                     0  ...  Others\n",
      "08:ea:40:f9:0e:44                     0  ...  Others\n",
      "...                                 ...  ...     ...\n",
      "ff:ff:ff:ff:60:e1                     0  ...  Others\n",
      "ff:ff:ff:ff:80:e8                     0  ...  Others\n",
      "ff:ff:ff:ff:b0:e8                     0  ...  Others\n",
      "ff:ff:ff:ff:c0:d9                     0  ...  Others\n",
      "ff:ff:ff:ff:f0:e0                     0  ...  Others\n",
      "\n",
      "[3910 rows x 529 columns])\n",
      "AutoGluon infers your prediction problem is: 'multiclass' (because dtype of label-column == object).\n",
      "\tIf 'multiclass' is not the correct problem_type, please manually specify the problem_type argument in fit() (You may specify problem_type as one of: ['binary', 'multiclass', 'regression'])\n",
      "AutoGluon will gauge predictive performance using evaluation metric: 'accuracy'\n",
      "AutoGluon will early stop models using evaluation metric: 'accuracy'\n",
      "step:Learn → LearnResult(graphs_path=PosixPath('nprintml/run-emu-1614895926-28552/model/graphs'), models_path=PosixPath('nprintml/run-emu-1614895926-28552/model/models'))\n",
      "done → namespace(features=                   radiotap_reversion_0  ...   label\n",
      "06:7f:2c:c3:10:90                     0  ...  Others\n",
      "08:02:8e:ca:ae:73                     0  ...  Others\n",
      "08:02:8e:ca:ae:73                     0  ...  Others\n",
      "08:02:8e:ca:ae:73                     0  ...  Others\n",
      "08:ea:40:f9:0e:44                     0  ...  Others\n",
      "...                                 ...  ...     ...\n",
      "ff:ff:ff:ff:60:e1                     0  ...  Others\n",
      "ff:ff:ff:ff:80:e8                     0  ...  Others\n",
      "ff:ff:ff:ff:b0:e8                     0  ...  Others\n",
      "ff:ff:ff:ff:c0:d9                     0  ...  Others\n",
      "ff:ff:ff:ff:f0:e0                     0  ...  Others\n",
      "\n",
      "[3910 rows x 529 columns], graphs_path=PosixPath('nprintml/run-emu-1614895926-28552/model/graphs'), models_path=PosixPath('nprintml/run-emu-1614895926-28552/model/models'), nprint_path=PosixPath('nprintml/run-emu-1614895926-28552/nprint'))\n"
     ]
    }
   ],
   "source": [
    "nml_cmd = f'nprintml --wlan --pcap-file {filename}.pcap --label-file {labels_path} --aggregator index'\n",
    "!{nml_cmd}"
   ]
  },
  {
   "cell_type": "code",
   "execution_count": null,
   "metadata": {},
   "outputs": [],
   "source": []
  }
 ]
}