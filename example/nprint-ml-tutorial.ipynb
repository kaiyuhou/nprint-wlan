{
 "cells": [
  {
   "cell_type": "markdown",
   "metadata": {},
   "source": [
    "# The nPrint Machine Learning Pipeline\n",
    "\n",
    "This notebook is designed to give you a **very** simple example of how to use nPrint in a generic machine learning pipeline and the rapid pace at which we can train new models and test new ideas on network traffic. Note that this example is simply to show the pipeline, not to test a hard problem. The traffic collected is to the same website over the course of about 15 seconds.\n",
    "\n",
    "\n",
    "### Requirements\n",
    "\n",
    "nPrint must be installed into $PATH for external commands to work\n",
    "\n",
    "### Directory Sturcture\n",
    "\n",
    "There are 2 `pcap` files in this directory\n",
    "1. `port443.pcap` - a small trace of packets sent and received over https  \n",
    "2. `port80.pcap` - a small trace of packets sent and received over http"
   ]
  },
  {
   "cell_type": "markdown",
   "metadata": {},
   "source": [
    "# Generating nPrints from Traffic\n",
    "\n",
    "First, lets generate nPrints from each traffic trace. Let's **only** include the TCP headers in the nPrints for now."
   ]
  },
  {
   "cell_type": "code",
   "execution_count": 1,
   "metadata": {},
   "outputs": [],
   "source": [
    "cmd_80 = 'nprint -P port80.pcap -t -W port80.npt'\n",
    "cmd_443 = 'nprint -P port443.pcap -t -W port443.npt'\n",
    "!{cmd_80}\n",
    "!{cmd_443}"
   ]
  },
  {
   "cell_type": "markdown",
   "metadata": {},
   "source": [
    "Lets examine the nPrints, which can be directly loaded with Pandas"
   ]
  },
  {
   "cell_type": "code",
   "execution_count": 1,
   "metadata": {
    "tags": []
   },
   "outputs": [
    {
     "output_type": "stream",
     "name": "stdout",
     "text": [
      "FileWriter calles v4.get_bitstring_header(header);\nSuperPacket calles ipv4_header.get_bitstring(to_fill, c->fill_with);\n"
     ]
    }
   ],
   "source": [
    "cmd_test = 'nprint -P port80.pcap -4 -W port80.npt'\n",
    "!{cmd_test}"
   ]
  },
  {
   "cell_type": "code",
   "execution_count": 9,
   "metadata": {},
   "outputs": [
    {
     "output_type": "stream",
     "name": "stdout",
     "text": [
      "FileWriter calles wlan.get_bitstring_header(header);\n",
      "SuperPacket calles wlan_header.get_bitstring(to_fill, c->fill_with);\n",
      "Wlan RX-Addr: src: ff:ff:ff:ff:ff:ff, "
     ]
    }
   ],
   "source": [
    "filename = 'wlan_2020_11_05_03'\n",
    "cmd_test = f'nprint -w -P {filename}.pcap -W {filename}-test.npt'\n",
    "!{cmd_test}"
   ]
  },
  {
   "cell_type": "code",
   "execution_count": 5,
   "metadata": {},
   "outputs": [
    {
     "output_type": "stream",
     "name": "stdout",
     "text": [
      "Port 80 nPrint: Number of Packets: 2421, Features per packet: 480\nPort 443 nPrint: Number of Packets: 2500, Features per packet: 480\n"
     ]
    }
   ],
   "source": [
    "import pandas as pd\n",
    "\n",
    "nprint_80 = pd.read_csv('port80.npt', index_col=0)\n",
    "nprint_443 = pd.read_csv('port443.npt', index_col=0)\n",
    "\n",
    "print('Port 80 nPrint: Number of Packets: {0}, Features per packet: {1}'.format(nprint_80.shape[0], nprint_80.shape[1]))\n",
    "print('Port 443 nPrint: Number of Packets: {0}, Features per packet: {1}'.format(nprint_443.shape[0], nprint_443.shape[1]))"
   ]
  },
  {
   "cell_type": "markdown",
   "metadata": {},
   "source": [
    "Looks like they have the same number of features, which is the maximum number of bits in a TCP header. Let's look at the header itself."
   ]
  },
  {
   "cell_type": "code",
   "execution_count": 9,
   "metadata": {},
   "outputs": [
    {
     "output_type": "stream",
     "name": "stdout",
     "text": [
      "Index(['tcp_sprt_0', 'tcp_sprt_1', 'tcp_sprt_2', 'tcp_sprt_3', 'tcp_sprt_4',\n       'tcp_sprt_5', 'tcp_sprt_6', 'tcp_sprt_7', 'tcp_sprt_8', 'tcp_sprt_9',\n       ...\n       'tcp_opt_310', 'tcp_opt_311', 'tcp_opt_312', 'tcp_opt_313',\n       'tcp_opt_314', 'tcp_opt_315', 'tcp_opt_316', 'tcp_opt_317',\n       'tcp_opt_318', 'tcp_opt_319'],\n      dtype='object', length=480)\nIndex(['tcp_sprt_0', 'tcp_sprt_1', 'tcp_sprt_2', 'tcp_sprt_3', 'tcp_sprt_4',\n       'tcp_sprt_5', 'tcp_sprt_6', 'tcp_sprt_7', 'tcp_sprt_8', 'tcp_sprt_9',\n       ...\n       'tcp_opt_310', 'tcp_opt_311', 'tcp_opt_312', 'tcp_opt_313',\n       'tcp_opt_314', 'tcp_opt_315', 'tcp_opt_316', 'tcp_opt_317',\n       'tcp_opt_318', 'tcp_opt_319'],\n      dtype='object', length=480)\n"
     ]
    }
   ],
   "source": [
    "print(nprint_80.columns)\n",
    "print(nprint_443.columns)"
   ]
  },
  {
   "cell_type": "markdown",
   "metadata": {},
   "source": [
    "Notice how each bit (feature) is named according to the exact bit it represents in the packet, and all the possible bits of a TCP header are accounted for."
   ]
  },
  {
   "cell_type": "markdown",
   "metadata": {},
   "source": [
    "## nPrint to Machine Learning Samples\n",
    "\n",
    "Now we need to take each nPrint and make each packet a \"sample\" for the machine learning task at hand. In this case, we'll set up a supervised learning task where port 80 traffic is labeled \"unencrypted\" and port 443 traffic is labeled \"encrypted\""
   ]
  },
  {
   "cell_type": "code",
   "execution_count": 7,
   "metadata": {
    "tags": []
   },
   "outputs": [],
   "source": [
    "import numpy as np\n",
    "\n",
    "samples = []\n",
    "labels = []\n",
    "for _, row in nprint_80.iterrows():\n",
    "    samples.append(np.array(row))\n",
    "    labels.append('unencrypted')\n",
    "\n",
    "for _, row in nprint_443.iterrows():\n",
    "    samples.append(np.array(row))\n",
    "    labels.append('encrypted')\n"
   ]
  },
  {
   "cell_type": "markdown",
   "metadata": {},
   "source": [
    "## Training a Classifier\n",
    "\n",
    "We're already ready to train and test a model on the traffic we gathered. Let's split the data into training and testing data, train a model, and get a stat report."
   ]
  },
  {
   "cell_type": "code",
   "execution_count": 12,
   "metadata": {},
   "outputs": [
    {
     "output_type": "stream",
     "name": "stdout",
     "text": [
      "              precision    recall  f1-score   support\n",
      "\n",
      "   encrypted       1.00      1.00      1.00       632\n",
      " unencrypted       1.00      1.00      1.00       599\n",
      "\n",
      "    accuracy                           1.00      1231\n",
      "   macro avg       1.00      1.00      1.00      1231\n",
      "weighted avg       1.00      1.00      1.00      1231\n",
      "\n",
      "ROC AUC Score: 1.0\n"
     ]
    }
   ],
   "source": [
    "from sklearn.model_selection import train_test_split\n",
    "from sklearn.ensemble import RandomForestClassifier\n",
    "from sklearn.metrics import classification_report\n",
    "from sklearn.metrics import roc_auc_score\n",
    "\n",
    "# Split data\n",
    "X_train, X_test, y_train, y_test = train_test_split(samples, labels)\n",
    "\n",
    "# Initialize Classifier\n",
    "clf = RandomForestClassifier(n_estimators=1000, max_depth=None, min_samples_split=2, random_state=0)\n",
    "\n",
    "# Train \n",
    "clf.fit(X_train, y_train) \n",
    "\n",
    "# Predict\n",
    "y_pred = clf.predict(X_test)\n",
    "\n",
    "# Statistics\n",
    "\n",
    "# First, lets get a stat report about the precision and recall:\n",
    "report = classification_report(y_test, y_pred)\n",
    "print(report)\n",
    "\n",
    "# Let's also get the ROC AUC score while we're here, which requires a probability instead of just the prediction\n",
    "y_pred_proba = clf.predict_proba(X_test)\n",
    "# predict_proba gives us a probability estimate of each class, while roc_auc just cares about the \"positive\" class\n",
    "y_pred_proba_pos = [sublist[1] for sublist in y_pred_proba]\n",
    "roc = roc_auc_score(y_test, y_pred_proba_pos)\n",
    "print('ROC AUC Score: {0}'.format(roc))\n"
   ]
  },
  {
   "source": [
    "## Understanding the model\n",
    "\n",
    "nPrint's alignment of each packet allows for understanding the specific features (parts of the packet) that are driving the model's performance. It turns out that the options that are being set in the TCP header is actually more important than the port numbers themselves!"
   ],
   "cell_type": "markdown",
   "metadata": {}
  },
  {
   "cell_type": "code",
   "execution_count": 17,
   "metadata": {},
   "outputs": [
    {
     "output_type": "stream",
     "name": "stdout",
     "text": [
      "('tcp_opt_67', 0.05498109969689252)\n('tcp_doff_0', 0.04434593597453355)\n('tcp_opt_20', 0.044215529334114156)\n('tcp_doff_1', 0.03869049726745204)\n('tcp_opt_35', 0.03853703397703283)\n('tcp_opt_30', 0.03704547655105015)\n('tcp_sprt_9', 0.036336947895493146)\n('tcp_opt_28', 0.0359568929855975)\n('tcp_opt_37', 0.03554158560240523)\n('tcp_opt_74', 0.03450438091372076)\n('tcp_doff_3', 0.032487834166355464)\n('tcp_dprt_9', 0.031922954608556806)\n('tcp_sprt_12', 0.031601097026681034)\n('tcp_dprt_12', 0.028472905134869914)\n('tcp_dprt_14', 0.026693263103707128)\n('tcp_opt_42', 0.024294645640113906)\n('tcp_opt_7', 0.023917728341063475)\n('tcp_sprt_14', 0.021290429343195208)\n('tcp_opt_69', 0.02080508736125145)\n('tcp_opt_15', 0.02049887605591897)\n"
     ]
    }
   ],
   "source": [
    "# Get Raw feature importances\n",
    "feature_importances = clf.feature_importances_\n",
    "# Match the feature names we know with the importances\n",
    "named_importances = []\n",
    "for column_name, importance in zip(nprint_80.columns, feature_importances):\n",
    "    named_importances.append((column_name, importance))\n",
    "# Sort the named feature importances\n",
    "sorted_feature_importances = sorted(named_importances, key=lambda tup: tup[1], reverse=True)\n",
    "# Now lets print the top 20 important features (bits)\n",
    "print(*sorted_feature_importances[0:20], sep='\\n') "
   ]
  },
  {
   "cell_type": "markdown",
   "metadata": {},
   "source": [
    "## Rapidly testing different versions of the problem\n",
    "\n",
    "now that we have a generic pipeline, we can leverage nPrint's flags to generate different versions of nPrints. Let's test a version of this classification problem using **only** the IPv4 Headers of the packets"
   ]
  },
  {
   "cell_type": "code",
   "execution_count": 18,
   "metadata": {},
   "outputs": [
    {
     "output_type": "stream",
     "name": "stdout",
     "text": [
      "              precision    recall  f1-score   support\n\n   encrypted       1.00      1.00      1.00       613\n unencrypted       1.00      1.00      1.00       618\n\n    accuracy                           1.00      1231\n   macro avg       1.00      1.00      1.00      1231\nweighted avg       1.00      1.00      1.00      1231\n\n"
     ]
    }
   ],
   "source": [
    "# Generate nPrints\n",
    "cmd_80 = 'nprint -P port80.pcap -4  -W port80.npt'\n",
    "cmd_443 = 'nprint -P port443.pcap -4 -W port443.npt'\n",
    "!{cmd_80}\n",
    "!{cmd_443}\n",
    "\n",
    "# Load nPrints\n",
    "nprint_80 = pd.read_csv('port80.npt', index_col=0)\n",
    "nprint_443 = pd.read_csv('port443.npt', index_col=0)\n",
    "\n",
    "# Assoicate with Labels\n",
    "samples = []\n",
    "labels = []\n",
    "for _, row in nprint_80.iterrows():\n",
    "    samples.append(np.array(row))\n",
    "    labels.append('unencrypted')\n",
    "\n",
    "for _, row in nprint_443.iterrows():\n",
    "    samples.append(np.array(row))\n",
    "    labels.append('encrypted')\n",
    "    \n",
    "# Train and Test the Classifier\n",
    "# Split data\n",
    "X_train, X_test, y_train, y_test = train_test_split(samples, labels)\n",
    "# Initialize Classifier\n",
    "clf = RandomForestClassifier(n_estimators=1000, max_depth=None, min_samples_split=2, random_state=0)\n",
    "# Train \n",
    "clf.fit(X_train, y_train) \n",
    "# Predict\n",
    "y_pred = clf.predict(X_test)\n",
    "# Statistics\n",
    "report = classification_report(y_test, y_pred)\n",
    "print(report)\n",
    "\n"
   ]
  },
  {
   "cell_type": "markdown",
   "metadata": {},
   "source": [
    "How about Testing using just the first 30 payload bytes in each packet?"
   ]
  },
  {
   "cell_type": "code",
   "execution_count": 19,
   "metadata": {},
   "outputs": [
    {
     "output_type": "stream",
     "name": "stdout",
     "text": [
      "              precision    recall  f1-score   support\n\n   encrypted       0.62      0.67      0.65       608\n unencrypted       0.65      0.60      0.63       623\n\n    accuracy                           0.64      1231\n   macro avg       0.64      0.64      0.64      1231\nweighted avg       0.64      0.64      0.64      1231\n\n"
     ]
    }
   ],
   "source": [
    "# Generate nPrints\n",
    "cmd_80 = 'nprint -P port80.pcap -p 30 -W port80.npt'\n",
    "cmd_443 = 'nprint -P port443.pcap -p 30 -W port443.npt'\n",
    "!{cmd_80}\n",
    "!{cmd_443}\n",
    "\n",
    "# Load nPrints\n",
    "nprint_80 = pd.read_csv('port80.npt', index_col=0)\n",
    "nprint_443 = pd.read_csv('port443.npt', index_col=0)\n",
    "\n",
    "# Assoicate with Labels\n",
    "samples = []\n",
    "labels = []\n",
    "for _, row in nprint_80.iterrows():\n",
    "    samples.append(np.array(row))\n",
    "    labels.append('unencrypted')\n",
    "\n",
    "for _, row in nprint_443.iterrows():\n",
    "    samples.append(np.array(row))\n",
    "    labels.append('encrypted')\n",
    "    \n",
    "# Train and Test the Classifier\n",
    "# Split data\n",
    "X_train, X_test, y_train, y_test = train_test_split(samples, labels)\n",
    "# Initialize Classifier\n",
    "clf = RandomForestClassifier(n_estimators=1000, max_depth=None, min_samples_split=2, random_state=0)\n",
    "# Train \n",
    "clf.fit(X_train, y_train) \n",
    "# Predict\n",
    "y_pred = clf.predict(X_test)\n",
    "# Statistics\n",
    "report = classification_report(y_test, y_pred)\n",
    "print(report)"
   ]
  },
  {
   "cell_type": "markdown",
   "metadata": {},
   "source": [
    "A much harder problem, with a much lower score. It may be likely that many packets don't have a payload at all, making it impossible to guess the traffic! What if we remove those packets from our dataset?"
   ]
  },
  {
   "cell_type": "code",
   "execution_count": 20,
   "metadata": {},
   "outputs": [
    {
     "output_type": "stream",
     "name": "stdout",
     "text": [
      "              precision    recall  f1-score   support\n\n   encrypted       0.61      0.99      0.75       402\n unencrypted       0.95      0.20      0.32       322\n\n    accuracy                           0.64       724\n   macro avg       0.78      0.59      0.54       724\nweighted avg       0.76      0.64      0.56       724\n\n"
     ]
    }
   ],
   "source": [
    "# Load nPrints\n",
    "nprint_80 = pd.read_csv('port80.npt', index_col=0)\n",
    "nprint_443 = pd.read_csv('port443.npt', index_col=0)\n",
    "\n",
    "# Assoicate with Labels\n",
    "samples = []\n",
    "labels = []\n",
    "for _, row in nprint_80.iterrows():\n",
    "    # Check for no payload, all bits will be -1. There are more efficient ways to do this\n",
    "    if len(set(row)) == 1:\n",
    "        continue\n",
    "    samples.append(np.array(row))\n",
    "    labels.append('unencrypted')\n",
    "\n",
    "for _, row in nprint_443.iterrows():\n",
    "    # Check for no payload, all bits will be -1. There are more efficient ways to do this\n",
    "    if len(set(row)) == 1:\n",
    "        continue\n",
    "    samples.append(np.array(row))\n",
    "    labels.append('encrypted')\n",
    "    \n",
    "# Train and Test the Classifier\n",
    "# Split data\n",
    "X_train, X_test, y_train, y_test = train_test_split(samples, labels)\n",
    "# Initialize Classifier\n",
    "clf = RandomForestClassifier(n_estimators=1000, max_depth=None, min_samples_split=2, random_state=0)\n",
    "# Train \n",
    "clf.fit(X_train, y_train) \n",
    "# Predict\n",
    "y_pred = clf.predict(X_test)\n",
    "# Statistics\n",
    "report = classification_report(y_test, y_pred)\n",
    "print(report)"
   ]
  },
  {
   "cell_type": "markdown",
   "metadata": {},
   "source": [
    "## Conclusion\n",
    "\n",
    "Hopefully this gives you a better idea of how nPrint can be used to rapidly train and test models for different traffic analysis problems. While this problem was contrived and simple, the same basic steps can be performed for any single-packet classification problem. If you want to train and test using **sets** of packets as input to a model, you'll either need a model that can handle that input, such as a CNN, or to flatten the 2D packet sample into a 1d sample for use with a model such as the random forest above."
   ]
  }
 ],
 "metadata": {
  "kernelspec": {
   "name": "python3",
   "display_name": "Python 3.8.5 64-bit",
   "metadata": {
    "interpreter": {
     "hash": "c4d4e6586a6adeaf82bcc2769084e4f9c7d78e0c71da8ddfd654da24b07e7fd4"
    }
   }
  },
  "language_info": {
   "codemirror_mode": {
    "name": "ipython",
    "version": 3
   },
   "file_extension": ".py",
   "mimetype": "text/x-python",
   "name": "python",
   "nbconvert_exporter": "python",
   "pygments_lexer": "ipython3",
   "version": "3.8.5-final"
  }
 },
 "nbformat": 4,
 "nbformat_minor": 4
}