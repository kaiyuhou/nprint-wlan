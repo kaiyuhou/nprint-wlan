{
 "metadata": {
  "language_info": {
   "codemirror_mode": {
    "name": "ipython",
    "version": 3
   },
   "file_extension": ".py",
   "mimetype": "text/x-python",
   "name": "python",
   "nbconvert_exporter": "python",
   "pygments_lexer": "ipython3",
   "version": "3.8.5-final"
  },
  "orig_nbformat": 2,
  "kernelspec": {
   "name": "python3",
   "display_name": "Python 3.8.5 64-bit ('nprint': conda)",
   "metadata": {
    "interpreter": {
     "hash": "c4d4e6586a6adeaf82bcc2769084e4f9c7d78e0c71da8ddfd654da24b07e7fd4"
    }
   }
  }
 },
 "nbformat": 4,
 "nbformat_minor": 2,
 "cells": [
  {
   "source": [
    "# Device Vendor Classifier\n",
    "\n",
    "## Get nPrint-wlan output"
   ],
   "cell_type": "markdown",
   "metadata": {}
  },
  {
   "cell_type": "code",
   "execution_count": 2,
   "metadata": {},
   "outputs": [],
   "source": [
    "filename = 'wlan_2020_11_05_03'\n",
    "# cmd_test = f'nprint -w -P {filename}.pcap -W {filename}.npt'\n",
    "cmd_test = f'../nprint -w -P {filename}.pcap -W {filename}.npt'\n",
    "!{cmd_test}"
   ]
  },
  {
   "source": [
    "## Print"
   ],
   "cell_type": "markdown",
   "metadata": {}
  },
  {
   "cell_type": "code",
   "execution_count": 3,
   "metadata": {},
   "outputs": [
    {
     "output_type": "stream",
     "name": "stdout",
     "text": [
      "nPrint_wlan: Number of Packets: 4422, Features per packet: 528\n"
     ]
    },
    {
     "output_type": "execute_result",
     "data": {
      "text/plain": [
       "                   radiotap_reversion_0  radiotap_reversion_1  \\\n",
       "src_mac                                                         \n",
       "f8:bc:0e:53:3d:a9                     0                     0   \n",
       "f8:bc:0e:53:3d:a3                     0                     0   \n",
       "f8:bc:0e:53:3d:a6                     0                     0   \n",
       "f8:bc:0e:53:3d:a9                     0                     0   \n",
       "f8:bc:0e:53:3d:a3                     0                     0   \n",
       "...                                 ...                   ...   \n",
       "cc:f4:11:29:f8:89                     0                     0   \n",
       "82:f2:9e:2f:34:d8                     0                     0   \n",
       "bc:ff:eb:f2:b7:88                     0                     0   \n",
       "78:f2:9e:2f:34:d8                     0                     0   \n",
       "8e:f2:9e:2f:34:d8                     0                     0   \n",
       "\n",
       "                   radiotap_reversion_2  radiotap_reversion_3  \\\n",
       "src_mac                                                         \n",
       "f8:bc:0e:53:3d:a9                     0                     0   \n",
       "f8:bc:0e:53:3d:a3                     0                     0   \n",
       "f8:bc:0e:53:3d:a6                     0                     0   \n",
       "f8:bc:0e:53:3d:a9                     0                     0   \n",
       "f8:bc:0e:53:3d:a3                     0                     0   \n",
       "...                                 ...                   ...   \n",
       "cc:f4:11:29:f8:89                     0                     0   \n",
       "82:f2:9e:2f:34:d8                     0                     0   \n",
       "bc:ff:eb:f2:b7:88                     0                     0   \n",
       "78:f2:9e:2f:34:d8                     0                     0   \n",
       "8e:f2:9e:2f:34:d8                     0                     0   \n",
       "\n",
       "                   radiotap_reversion_4  radiotap_reversion_5  \\\n",
       "src_mac                                                         \n",
       "f8:bc:0e:53:3d:a9                     0                     0   \n",
       "f8:bc:0e:53:3d:a3                     0                     0   \n",
       "f8:bc:0e:53:3d:a6                     0                     0   \n",
       "f8:bc:0e:53:3d:a9                     0                     0   \n",
       "f8:bc:0e:53:3d:a3                     0                     0   \n",
       "...                                 ...                   ...   \n",
       "cc:f4:11:29:f8:89                     0                     0   \n",
       "82:f2:9e:2f:34:d8                     0                     0   \n",
       "bc:ff:eb:f2:b7:88                     0                     0   \n",
       "78:f2:9e:2f:34:d8                     0                     0   \n",
       "8e:f2:9e:2f:34:d8                     0                     0   \n",
       "\n",
       "                   radiotap_reversion_6  radiotap_reversion_7  radiotap_pad_0  \\\n",
       "src_mac                                                                         \n",
       "f8:bc:0e:53:3d:a9                     0                     0               0   \n",
       "f8:bc:0e:53:3d:a3                     0                     0               0   \n",
       "f8:bc:0e:53:3d:a6                     0                     0               0   \n",
       "f8:bc:0e:53:3d:a9                     0                     0               0   \n",
       "f8:bc:0e:53:3d:a3                     0                     0               0   \n",
       "...                                 ...                   ...             ...   \n",
       "cc:f4:11:29:f8:89                     0                     0               0   \n",
       "82:f2:9e:2f:34:d8                     0                     0               0   \n",
       "bc:ff:eb:f2:b7:88                     0                     0               0   \n",
       "78:f2:9e:2f:34:d8                     0                     0               0   \n",
       "8e:f2:9e:2f:34:d8                     0                     0               0   \n",
       "\n",
       "                   radiotap_pad_1  ...  wlan_rx_addr_38  wlan_rx_addr_39  \\\n",
       "src_mac                            ...                                     \n",
       "f8:bc:0e:53:3d:a9               0  ...                1                1   \n",
       "f8:bc:0e:53:3d:a3               0  ...                1                1   \n",
       "f8:bc:0e:53:3d:a6               0  ...                1                1   \n",
       "f8:bc:0e:53:3d:a9               0  ...                1                1   \n",
       "f8:bc:0e:53:3d:a3               0  ...                1                1   \n",
       "...                           ...  ...              ...              ...   \n",
       "cc:f4:11:29:f8:89               0  ...                1                1   \n",
       "82:f2:9e:2f:34:d8               0  ...                1                1   \n",
       "bc:ff:eb:f2:b7:88               0  ...                1                1   \n",
       "78:f2:9e:2f:34:d8               0  ...                1                1   \n",
       "8e:f2:9e:2f:34:d8               0  ...                1                1   \n",
       "\n",
       "                   wlan_rx_addr_40  wlan_rx_addr_41  wlan_rx_addr_42  \\\n",
       "src_mac                                                                \n",
       "f8:bc:0e:53:3d:a9                1                1                1   \n",
       "f8:bc:0e:53:3d:a3                1                1                1   \n",
       "f8:bc:0e:53:3d:a6                1                1                1   \n",
       "f8:bc:0e:53:3d:a9                1                1                1   \n",
       "f8:bc:0e:53:3d:a3                1                1                1   \n",
       "...                            ...              ...              ...   \n",
       "cc:f4:11:29:f8:89                1                1                1   \n",
       "82:f2:9e:2f:34:d8                1                1                1   \n",
       "bc:ff:eb:f2:b7:88                1                1                1   \n",
       "78:f2:9e:2f:34:d8                1                1                1   \n",
       "8e:f2:9e:2f:34:d8                1                1                1   \n",
       "\n",
       "                   wlan_rx_addr_43  wlan_rx_addr_44  wlan_rx_addr_45  \\\n",
       "src_mac                                                                \n",
       "f8:bc:0e:53:3d:a9                1                1                1   \n",
       "f8:bc:0e:53:3d:a3                1                1                1   \n",
       "f8:bc:0e:53:3d:a6                1                1                1   \n",
       "f8:bc:0e:53:3d:a9                1                1                1   \n",
       "f8:bc:0e:53:3d:a3                1                1                1   \n",
       "...                            ...              ...              ...   \n",
       "cc:f4:11:29:f8:89                1                1                1   \n",
       "82:f2:9e:2f:34:d8                1                1                1   \n",
       "bc:ff:eb:f2:b7:88                1                1                1   \n",
       "78:f2:9e:2f:34:d8                1                1                1   \n",
       "8e:f2:9e:2f:34:d8                1                1                1   \n",
       "\n",
       "                   wlan_rx_addr_46  wlan_rx_addr_47  \n",
       "src_mac                                              \n",
       "f8:bc:0e:53:3d:a9                1                1  \n",
       "f8:bc:0e:53:3d:a3                1                1  \n",
       "f8:bc:0e:53:3d:a6                1                1  \n",
       "f8:bc:0e:53:3d:a9                1                1  \n",
       "f8:bc:0e:53:3d:a3                1                1  \n",
       "...                            ...              ...  \n",
       "cc:f4:11:29:f8:89                1                1  \n",
       "82:f2:9e:2f:34:d8                1                1  \n",
       "bc:ff:eb:f2:b7:88                1                1  \n",
       "78:f2:9e:2f:34:d8                1                1  \n",
       "8e:f2:9e:2f:34:d8                1                1  \n",
       "\n",
       "[4422 rows x 528 columns]"
      ],
      "text/html": "<div>\n<style scoped>\n    .dataframe tbody tr th:only-of-type {\n        vertical-align: middle;\n    }\n\n    .dataframe tbody tr th {\n        vertical-align: top;\n    }\n\n    .dataframe thead th {\n        text-align: right;\n    }\n</style>\n<table border=\"1\" class=\"dataframe\">\n  <thead>\n    <tr style=\"text-align: right;\">\n      <th></th>\n      <th>radiotap_reversion_0</th>\n      <th>radiotap_reversion_1</th>\n      <th>radiotap_reversion_2</th>\n      <th>radiotap_reversion_3</th>\n      <th>radiotap_reversion_4</th>\n      <th>radiotap_reversion_5</th>\n      <th>radiotap_reversion_6</th>\n      <th>radiotap_reversion_7</th>\n      <th>radiotap_pad_0</th>\n      <th>radiotap_pad_1</th>\n      <th>...</th>\n      <th>wlan_rx_addr_38</th>\n      <th>wlan_rx_addr_39</th>\n      <th>wlan_rx_addr_40</th>\n      <th>wlan_rx_addr_41</th>\n      <th>wlan_rx_addr_42</th>\n      <th>wlan_rx_addr_43</th>\n      <th>wlan_rx_addr_44</th>\n      <th>wlan_rx_addr_45</th>\n      <th>wlan_rx_addr_46</th>\n      <th>wlan_rx_addr_47</th>\n    </tr>\n    <tr>\n      <th>src_mac</th>\n      <th></th>\n      <th></th>\n      <th></th>\n      <th></th>\n      <th></th>\n      <th></th>\n      <th></th>\n      <th></th>\n      <th></th>\n      <th></th>\n      <th></th>\n      <th></th>\n      <th></th>\n      <th></th>\n      <th></th>\n      <th></th>\n      <th></th>\n      <th></th>\n      <th></th>\n      <th></th>\n      <th></th>\n    </tr>\n  </thead>\n  <tbody>\n    <tr>\n      <th>f8:bc:0e:53:3d:a9</th>\n      <td>0</td>\n      <td>0</td>\n      <td>0</td>\n      <td>0</td>\n      <td>0</td>\n      <td>0</td>\n      <td>0</td>\n      <td>0</td>\n      <td>0</td>\n      <td>0</td>\n      <td>...</td>\n      <td>1</td>\n      <td>1</td>\n      <td>1</td>\n      <td>1</td>\n      <td>1</td>\n      <td>1</td>\n      <td>1</td>\n      <td>1</td>\n      <td>1</td>\n      <td>1</td>\n    </tr>\n    <tr>\n      <th>f8:bc:0e:53:3d:a3</th>\n      <td>0</td>\n      <td>0</td>\n      <td>0</td>\n      <td>0</td>\n      <td>0</td>\n      <td>0</td>\n      <td>0</td>\n      <td>0</td>\n      <td>0</td>\n      <td>0</td>\n      <td>...</td>\n      <td>1</td>\n      <td>1</td>\n      <td>1</td>\n      <td>1</td>\n      <td>1</td>\n      <td>1</td>\n      <td>1</td>\n      <td>1</td>\n      <td>1</td>\n      <td>1</td>\n    </tr>\n    <tr>\n      <th>f8:bc:0e:53:3d:a6</th>\n      <td>0</td>\n      <td>0</td>\n      <td>0</td>\n      <td>0</td>\n      <td>0</td>\n      <td>0</td>\n      <td>0</td>\n      <td>0</td>\n      <td>0</td>\n      <td>0</td>\n      <td>...</td>\n      <td>1</td>\n      <td>1</td>\n      <td>1</td>\n      <td>1</td>\n      <td>1</td>\n      <td>1</td>\n      <td>1</td>\n      <td>1</td>\n      <td>1</td>\n      <td>1</td>\n    </tr>\n    <tr>\n      <th>f8:bc:0e:53:3d:a9</th>\n      <td>0</td>\n      <td>0</td>\n      <td>0</td>\n      <td>0</td>\n      <td>0</td>\n      <td>0</td>\n      <td>0</td>\n      <td>0</td>\n      <td>0</td>\n      <td>0</td>\n      <td>...</td>\n      <td>1</td>\n      <td>1</td>\n      <td>1</td>\n      <td>1</td>\n      <td>1</td>\n      <td>1</td>\n      <td>1</td>\n      <td>1</td>\n      <td>1</td>\n      <td>1</td>\n    </tr>\n    <tr>\n      <th>f8:bc:0e:53:3d:a3</th>\n      <td>0</td>\n      <td>0</td>\n      <td>0</td>\n      <td>0</td>\n      <td>0</td>\n      <td>0</td>\n      <td>0</td>\n      <td>0</td>\n      <td>0</td>\n      <td>0</td>\n      <td>...</td>\n      <td>1</td>\n      <td>1</td>\n      <td>1</td>\n      <td>1</td>\n      <td>1</td>\n      <td>1</td>\n      <td>1</td>\n      <td>1</td>\n      <td>1</td>\n      <td>1</td>\n    </tr>\n    <tr>\n      <th>...</th>\n      <td>...</td>\n      <td>...</td>\n      <td>...</td>\n      <td>...</td>\n      <td>...</td>\n      <td>...</td>\n      <td>...</td>\n      <td>...</td>\n      <td>...</td>\n      <td>...</td>\n      <td>...</td>\n      <td>...</td>\n      <td>...</td>\n      <td>...</td>\n      <td>...</td>\n      <td>...</td>\n      <td>...</td>\n      <td>...</td>\n      <td>...</td>\n      <td>...</td>\n      <td>...</td>\n    </tr>\n    <tr>\n      <th>cc:f4:11:29:f8:89</th>\n      <td>0</td>\n      <td>0</td>\n      <td>0</td>\n      <td>0</td>\n      <td>0</td>\n      <td>0</td>\n      <td>0</td>\n      <td>0</td>\n      <td>0</td>\n      <td>0</td>\n      <td>...</td>\n      <td>1</td>\n      <td>1</td>\n      <td>1</td>\n      <td>1</td>\n      <td>1</td>\n      <td>1</td>\n      <td>1</td>\n      <td>1</td>\n      <td>1</td>\n      <td>1</td>\n    </tr>\n    <tr>\n      <th>82:f2:9e:2f:34:d8</th>\n      <td>0</td>\n      <td>0</td>\n      <td>0</td>\n      <td>0</td>\n      <td>0</td>\n      <td>0</td>\n      <td>0</td>\n      <td>0</td>\n      <td>0</td>\n      <td>0</td>\n      <td>...</td>\n      <td>1</td>\n      <td>1</td>\n      <td>1</td>\n      <td>1</td>\n      <td>1</td>\n      <td>1</td>\n      <td>1</td>\n      <td>1</td>\n      <td>1</td>\n      <td>1</td>\n    </tr>\n    <tr>\n      <th>bc:ff:eb:f2:b7:88</th>\n      <td>0</td>\n      <td>0</td>\n      <td>0</td>\n      <td>0</td>\n      <td>0</td>\n      <td>0</td>\n      <td>0</td>\n      <td>0</td>\n      <td>0</td>\n      <td>0</td>\n      <td>...</td>\n      <td>1</td>\n      <td>1</td>\n      <td>1</td>\n      <td>1</td>\n      <td>1</td>\n      <td>1</td>\n      <td>1</td>\n      <td>1</td>\n      <td>1</td>\n      <td>1</td>\n    </tr>\n    <tr>\n      <th>78:f2:9e:2f:34:d8</th>\n      <td>0</td>\n      <td>0</td>\n      <td>0</td>\n      <td>0</td>\n      <td>0</td>\n      <td>0</td>\n      <td>0</td>\n      <td>0</td>\n      <td>0</td>\n      <td>0</td>\n      <td>...</td>\n      <td>1</td>\n      <td>1</td>\n      <td>1</td>\n      <td>1</td>\n      <td>1</td>\n      <td>1</td>\n      <td>1</td>\n      <td>1</td>\n      <td>1</td>\n      <td>1</td>\n    </tr>\n    <tr>\n      <th>8e:f2:9e:2f:34:d8</th>\n      <td>0</td>\n      <td>0</td>\n      <td>0</td>\n      <td>0</td>\n      <td>0</td>\n      <td>0</td>\n      <td>0</td>\n      <td>0</td>\n      <td>0</td>\n      <td>0</td>\n      <td>...</td>\n      <td>1</td>\n      <td>1</td>\n      <td>1</td>\n      <td>1</td>\n      <td>1</td>\n      <td>1</td>\n      <td>1</td>\n      <td>1</td>\n      <td>1</td>\n      <td>1</td>\n    </tr>\n  </tbody>\n</table>\n<p>4422 rows × 528 columns</p>\n</div>"
     },
     "metadata": {},
     "execution_count": 3
    }
   ],
   "source": [
    "import pandas as pd\n",
    "\n",
    "nprint_wlan = pd.read_csv(f'{filename}.npt', index_col=0)\n",
    "\n",
    "print('nPrint_wlan: Number of Packets: {0}, Features per packet: {1}'.format(nprint_wlan.shape[0], nprint_wlan.shape[1]))\n",
    "nprint_wlan"
   ]
  },
  {
   "source": [
    "## Drop samples without src_mac "
   ],
   "cell_type": "markdown",
   "metadata": {}
  },
  {
   "cell_type": "code",
   "execution_count": 9,
   "metadata": {},
   "outputs": [
    {
     "output_type": "stream",
     "name": "stdout",
     "text": [
      "nprint_wlan_with_src_mac: Number of Packets: 3910, Features per packet: 528\n"
     ]
    }
   ],
   "source": [
    "nprint_wlan_with_src_mac = nprint_wlan.loc[nprint_wlan.index != 'None']\n",
    "print('nprint_wlan_with_src_mac: Number of Packets: {0}, Features per packet: {1}'.format(nprint_wlan_with_src_mac.shape[0], nprint_wlan_with_src_mac.shape[1]))\n",
    "\n",
    "num_sample_packets = nprint_wlan_with_src_mac.shape[0]"
   ]
  },
  {
   "source": [
    "## MAC OUI to Vendor"
   ],
   "cell_type": "markdown",
   "metadata": {}
  },
  {
   "cell_type": "code",
   "execution_count": 5,
   "metadata": {},
   "outputs": [],
   "source": [
    "vender_map = {} # key: mac, '00:00:01', value: ('short name', 'long name')\n",
    "manuf_path = 'MAC_OUI/manuf.txt'\n",
    "\n",
    "def load_vender_map():\n",
    "    with open(manuf_path) as f:\n",
    "        for line in f:\n",
    "            line = line.strip()\n",
    "            if not line: continue\n",
    "            if line.startswith('#'): continue\n",
    "            if '#' in line: line = line[:line.index('#')].strip()\n",
    "            \n",
    "            lsp = list(filter(None, line.split('\\t')))\n",
    "            assert 2 <= len(lsp) <= 3, f'{line}, {lsp}'\n",
    "\n",
    "            if len(lsp) == 2: mac, sname, lname = lsp[0], lsp[1], lsp[1]\n",
    "            else: mac, sname, lname = lsp\n",
    "\n",
    "            if mac.endswith('/28'): # eample: 00:55:DA:00:00:00/28\n",
    "                mac = mac[:10]\n",
    "            \n",
    "            vender_map[mac] = (sname, lname)\n",
    "\n",
    "load_vender_map()"
   ]
  },
  {
   "cell_type": "code",
   "execution_count": 6,
   "metadata": {},
   "outputs": [],
   "source": [
    "def get_vendor(mac: str):\n",
    "    mac = mac.upper()\n",
    "    if mac[:8] in vender_map.keys():\n",
    "        return vender_map[mac[:8]][0]\n",
    "    if mac[:10] in vender_map.keys():\n",
    "        return vender_map[map[:10]][0]\n",
    "    return 'None'"
   ]
  },
  {
   "source": [
    "## List all vendors"
   ],
   "cell_type": "markdown",
   "metadata": {}
  },
  {
   "cell_type": "code",
   "execution_count": 13,
   "metadata": {},
   "outputs": [
    {
     "output_type": "execute_result",
     "data": {
      "text/plain": [
       "[('None', 769),\n",
       " ('Motorola', 700),\n",
       " ('eero', 560),\n",
       " ('ARRISGro', 425),\n",
       " ('2Wire', 418),\n",
       " ('Google', 315),\n",
       " ('HewlettP', 213),\n",
       " ('ASUSTekC', 170),\n",
       " ('Pegatron', 89),\n",
       " ('Tp-LinkT', 86),\n",
       " ('BelkinIn', 46),\n",
       " ('HonHaiPr', 40),\n",
       " ('Chongqin', 20),\n",
       " ('Netgear', 19),\n",
       " ('Shenzhen', 16),\n",
       " ('Technico', 7),\n",
       " ('IntelCor', 5),\n",
       " ('Apple', 5),\n",
       " ('OnePlusT', 2),\n",
       " ('Sonos', 2),\n",
       " ('AmazonTe', 2),\n",
       " ('TexasIns', 1)]"
      ]
     },
     "metadata": {},
     "execution_count": 13
    }
   ],
   "source": [
    "from collections import Counter\n",
    "\n",
    "c = Counter([get_vendor(row.name) for _, row in nprint_wlan_with_src_mac.iterrows()])\n",
    "\n",
    "c.most_common()\n",
    "\n"
   ]
  },
  {
   "source": [
    "## Samples and Lables\n",
    "\n",
    "- Samples: nprint_wlan_with_src_mac\n",
    "- Lables: if the src_mac belongs to Apple"
   ],
   "cell_type": "markdown",
   "metadata": {}
  },
  {
   "cell_type": "code",
   "execution_count": 70,
   "metadata": {},
   "outputs": [
    {
     "output_type": "stream",
     "name": "stdout",
     "text": [
      "3141, 528\nGoogle: 315\n"
     ]
    }
   ],
   "source": [
    "import numpy as np\n",
    "\n",
    "samples = []\n",
    "labels = []\n",
    "# positive_vendor = 'Apple'\n",
    "positive_vendor = '  '\n",
    "\n",
    "none_samples = []\n",
    "\n",
    "for _, row in nprint_wlan_with_src_mac.iterrows():\n",
    "    vendor = get_vendor(row.name)\n",
    "    if vendor == 'None':  # drop samples without a vendor assigned\n",
    "        continue\n",
    "    labels.append(positive_vendor) if vendor == positive_vendor else labels.append('Others')\n",
    "    samples.append(np.array(row))\n",
    "\n",
    "print(f'{len(samples)}, {len(samples[0])}')\n",
    "num_positive = len([True for vendor in labels if vendor == positive_vendor])\n",
    "print(f'{positive_vendor}: {num_positive}')"
   ]
  },
  {
   "source": [
    "## Training"
   ],
   "cell_type": "markdown",
   "metadata": {}
  },
  {
   "cell_type": "code",
   "execution_count": 71,
   "metadata": {},
   "outputs": [
    {
     "output_type": "stream",
     "name": "stdout",
     "text": [
      "              precision    recall  f1-score   support\n",
      "\n",
      "      Google       0.99      0.88      0.93        89\n",
      "      Others       0.98      1.00      0.99       697\n",
      "\n",
      "    accuracy                           0.98       786\n",
      "   macro avg       0.99      0.94      0.96       786\n",
      "weighted avg       0.98      0.98      0.98       786\n",
      "\n",
      "ROC AUC Score: 0.9988070865507068\n"
     ]
    }
   ],
   "source": [
    "from sklearn.model_selection import train_test_split\n",
    "from sklearn.ensemble import RandomForestClassifier\n",
    "from sklearn.metrics import classification_report\n",
    "from sklearn.metrics import roc_auc_score\n",
    "\n",
    "# Split data\n",
    "X_train, X_test, y_train, y_test = train_test_split(samples, labels)\n",
    "\n",
    "# Initialize Classifier\n",
    "clf = RandomForestClassifier(n_estimators=1000, max_depth=None, min_samples_split=2, random_state=0)\n",
    "\n",
    "# Train \n",
    "clf.fit(X_train, y_train) \n",
    "\n",
    "# Predict\n",
    "y_pred = clf.predict(X_test)\n",
    "\n",
    "# Statistics\n",
    "\n",
    "# First, lets get a stat report about the precision and recall:\n",
    "report = classification_report(y_test, y_pred)\n",
    "print(report)\n",
    "\n",
    "# Let's also get the ROC AUC score while we're here, which requires a probability instead of just the prediction\n",
    "y_pred_proba = clf.predict_proba(X_test)\n",
    "# predict_proba gives us a probability estimate of each class, while roc_auc just cares about the \"positive\" class\n",
    "y_pred_proba_pos = [sublist[1] for sublist in y_pred_proba]\n",
    "roc = roc_auc_score(y_test, y_pred_proba_pos)\n",
    "print('ROC AUC Score: {0}'.format(roc))"
   ]
  },
  {
   "source": [
    "## If we use another dataset\n",
    "- test = 'wlan_2020_11_05_02'\n"
   ],
   "cell_type": "markdown",
   "metadata": {}
  },
  {
   "cell_type": "code",
   "execution_count": 72,
   "metadata": {},
   "outputs": [
    {
     "output_type": "stream",
     "name": "stdout",
     "text": [
      "nPrint_wlan: Number of Packets: 4782, Features per packet: 528\n"
     ]
    },
    {
     "output_type": "execute_result",
     "data": {
      "text/plain": [
       "[('eero', 3604),\n",
       " ('HewlettP', 633),\n",
       " ('Google', 470),\n",
       " ('None', 24),\n",
       " ('Chongqin', 14),\n",
       " ('IntelCor', 6),\n",
       " ('Apple', 2),\n",
       " ('TexasIns', 1)]"
      ]
     },
     "metadata": {},
     "execution_count": 72
    }
   ],
   "source": [
    "test_file = 'wlan_2020_11_05_02'\n",
    "cmd_test = f'../nprint -w -P {test_file}.pcap -W {test_file}.npt'\n",
    "!{cmd_test}\n",
    "\n",
    "nprint_wlan_test = pd.read_csv(f'{test_file}.npt', index_col=0)\n",
    "print('nPrint_wlan: Number of Packets: {0}, Features per packet: {1}'.format(nprint_wlan_test.shape[0], nprint_wlan_test.shape[1]))\n",
    "\n",
    "# Drop samples without src_mac\n",
    "nprint_wlan_test_with_src_mac = nprint_wlan_test.loc[nprint_wlan_test.index != 'None']\n",
    "\n",
    "c = Counter([get_vendor(row.name) for _, row in nprint_wlan_test_with_src_mac.iterrows()])\n",
    "c.most_common()"
   ]
  },
  {
   "cell_type": "code",
   "execution_count": 73,
   "metadata": {},
   "outputs": [
    {
     "output_type": "stream",
     "name": "stdout",
     "text": [
      "samples: 4730, 528, lables: 4730\nGoogle: 470\n"
     ]
    }
   ],
   "source": [
    "test_samples = []\n",
    "test_labels = []\n",
    "# positive_vendor = 'Apple'\n",
    "# positive_vendor = 'Google'\n",
    "\n",
    "for _, row in nprint_wlan_test_with_src_mac.iterrows():\n",
    "    vendor = get_vendor(row.name)\n",
    "    if vendor == 'None': \n",
    "        continue\n",
    "    test_labels.append(positive_vendor) if vendor == positive_vendor else test_labels.append('Others')\n",
    "    test_samples.append(np.array(row))\n",
    "\n",
    "print(f'samples: {len(test_samples)}, {len(test_samples[0])}, lables: {len(test_labels)}')\n",
    "num_positive = len([True for vendor in test_labels if vendor == positive_vendor])\n",
    "print(f'{positive_vendor}: {num_positive}')"
   ]
  },
  {
   "cell_type": "code",
   "execution_count": 75,
   "metadata": {},
   "outputs": [
    {
     "output_type": "stream",
     "name": "stdout",
     "text": [
      "              precision    recall  f1-score   support\n",
      "\n",
      "      Google       0.83      0.83      0.83       470\n",
      "      Others       0.98      0.98      0.98      4260\n",
      "\n",
      "    accuracy                           0.97      4730\n",
      "   macro avg       0.91      0.91      0.91      4730\n",
      "weighted avg       0.97      0.97      0.97      4730\n",
      "\n",
      "ROC AUC Score: 0.9858985116371991\n"
     ]
    }
   ],
   "source": [
    "X_test = test_samples\n",
    "y_test = test_labels\n",
    "\n",
    "# Predict\n",
    "y_pred = clf.predict(X_test)\n",
    "\n",
    "# Statistics\n",
    "\n",
    "# First, lets get a stat report about the precision and recall:\n",
    "report = classification_report(y_test, y_pred)\n",
    "print(report)\n",
    "\n",
    "# Let's also get the ROC AUC score while we're here, which requires a probability instead of just the prediction\n",
    "y_pred_proba = clf.predict_proba(X_test)\n",
    "# predict_proba gives us a probability estimate of each class, while roc_auc just cares about the \"positive\" class\n",
    "y_pred_proba_pos = [sublist[1] for sublist in y_pred_proba]\n",
    "roc = roc_auc_score(y_test, y_pred_proba_pos)\n",
    "print('ROC AUC Score: {0}'.format(roc))"
   ]
  },
  {
   "source": [
    "## Create labels file for nPrintML"
   ],
   "cell_type": "markdown",
   "metadata": {}
  },
  {
   "cell_type": "code",
   "execution_count": 81,
   "metadata": {},
   "outputs": [],
   "source": [
    "labels_path = 'vendor-labels.txt'\n",
    "\n",
    "positive_vendor = 'Google'\n",
    "labels_map = {}\n",
    "\n",
    "for mac in nprint_wlan.index:\n",
    "    if mac == 'None': labels_map[mac] = 'None'\n",
    "    labels_map[mac] = 'Google' if get_vendor(mac) == 'Google' else 'Others'\n",
    "\n",
    "with open(labels_path, 'w') as f:\n",
    "    f.write('item,label\\n')\n",
    "    for k, v in labels_map.items():\n",
    "        f.write(f'{k},{v}\\n')"
   ]
  },
  {
   "source": [
    "## Execute nPrintML"
   ],
   "cell_type": "markdown",
   "metadata": {}
  },
  {
   "cell_type": "code",
   "execution_count": 86,
   "metadata": {},
   "outputs": [
    {
     "output_type": "stream",
     "name": "stderr",
     "text": [
      "/home/kaiyu/miniconda3/envs/nprint/lib/python3.8/site-packages/ipykernel/ipkernel.py:287: DeprecationWarning: `should_run_async` will not call `transform_cell` automatically in the future. Please pass the result to `transformed_cell` argument and any exception that happen during thetransform in `preprocessing_exc_tuple` in IPython 7.17 and above.\n",
      "  and should_run_async(code)\n",
      "[warn] nprint expected version for nprintML (1.1.6) does not match version on PATH (1.0.4 at /usr/local/bin/nprint)\n",
      "step:Net → NetResult(nprint_path=PosixPath('nprintml/run-bison-1614288234-19396/nprint'))\n",
      "Loading nPrint: nprintml/run-bison-1614288234-19396/nprint/wlan_2020_11_05_03.npt\n",
      "Loaded 1 nprint\n",
      "  nPrint shape: (4422, 528)\n",
      "Loading labels: vendor-labels.txt\n",
      "  number of labels: 92\n",
      "Attaching labels to nPrints\n",
      "  labels attached: missing labels for:\n",
      "    missing labels caused samples to be dropped: 0\n",
      "step:Label → LabelResult(features=                   radiotap_reversion_0  ...   label\n",
      "06:7f:2c:c3:10:90                     0  ...  Others\n",
      "08:02:8e:ca:ae:73                     0  ...  Others\n",
      "08:02:8e:ca:ae:73                     0  ...  Others\n",
      "08:02:8e:ca:ae:73                     0  ...  Others\n",
      "08:ea:40:f9:0e:44                     0  ...  Others\n",
      "...                                 ...  ...     ...\n",
      "ff:ff:ff:ff:60:e1                     0  ...  Others\n",
      "ff:ff:ff:ff:80:e8                     0  ...  Others\n",
      "ff:ff:ff:ff:b0:e8                     0  ...  Others\n",
      "ff:ff:ff:ff:c0:d9                     0  ...  Others\n",
      "ff:ff:ff:ff:f0:e0                     0  ...  Others\n",
      "\n",
      "[4422 rows x 529 columns])\n",
      "AutoGluon infers your prediction problem is: 'binary' (because only two unique label-values observed).\n",
      "\tIf 'binary' is not the correct problem_type, please manually specify the problem_type argument in fit() (You may specify problem_type as one of: ['binary', 'multiclass', 'regression'])\n",
      "AutoGluon will gauge predictive performance using evaluation metric: 'accuracy'\n",
      "AutoGluon will early stop models using evaluation metric: 'accuracy'\n",
      "step:Learn → LearnResult(graphs_path=PosixPath('nprintml/run-bison-1614288234-19396/model/graphs'), models_path=PosixPath('nprintml/run-bison-1614288234-19396/model/models'))\n",
      "done → namespace(features=                   radiotap_reversion_0  ...   label\n",
      "06:7f:2c:c3:10:90                     0  ...  Others\n",
      "08:02:8e:ca:ae:73                     0  ...  Others\n",
      "08:02:8e:ca:ae:73                     0  ...  Others\n",
      "08:02:8e:ca:ae:73                     0  ...  Others\n",
      "08:ea:40:f9:0e:44                     0  ...  Others\n",
      "...                                 ...  ...     ...\n",
      "ff:ff:ff:ff:60:e1                     0  ...  Others\n",
      "ff:ff:ff:ff:80:e8                     0  ...  Others\n",
      "ff:ff:ff:ff:b0:e8                     0  ...  Others\n",
      "ff:ff:ff:ff:c0:d9                     0  ...  Others\n",
      "ff:ff:ff:ff:f0:e0                     0  ...  Others\n",
      "\n",
      "[4422 rows x 529 columns], graphs_path=PosixPath('nprintml/run-bison-1614288234-19396/model/graphs'), models_path=PosixPath('nprintml/run-bison-1614288234-19396/model/models'), nprint_path=PosixPath('nprintml/run-bison-1614288234-19396/nprint'))\n"
     ]
    }
   ],
   "source": [
    "pcap_path = 'wlan_2020_11_05_03.pcap'\n",
    "\n",
    "nml_cmd = f'nprintml --wlan --pcap-file {pcap_path} --label-file {labels_path} --aggregator index'\n",
    "!{nml_cmd}"
   ]
  },
  {
   "source": [
    "## Try AutoGluon Directly"
   ],
   "cell_type": "markdown",
   "metadata": {}
  },
  {
   "cell_type": "code",
   "execution_count": 87,
   "metadata": {},
   "outputs": [],
   "source": [
    "import autogluon as ag\n",
    "from autogluon import TabularPrediction as task\n",
    "\n",
    "\n",
    "# tra = pd.read_csv(f'{filename}.npt', index_col=0)\n",
    "\n",
    "# # Split data\n",
    "# X_train, X_test, y_train, y_test = train_test_split(samples, labels)\n",
    "\n",
    "# output_dir = 'autogluon'\n",
    "# predictor = task.fit(train_data=X_train, label=y_train, output_directory=dir)"
   ]
  },
  {
   "cell_type": "code",
   "execution_count": null,
   "metadata": {},
   "outputs": [],
   "source": []
  }
 ]
}