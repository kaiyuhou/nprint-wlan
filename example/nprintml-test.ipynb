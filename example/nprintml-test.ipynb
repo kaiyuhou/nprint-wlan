{
 "metadata": {
  "language_info": {
   "codemirror_mode": {
    "name": "ipython",
    "version": 3
   },
   "file_extension": ".py",
   "mimetype": "text/x-python",
   "name": "python",
   "nbconvert_exporter": "python",
   "pygments_lexer": "ipython3",
   "version": "3.8.5-final"
  },
  "orig_nbformat": 2,
  "kernelspec": {
   "name": "python3",
   "display_name": "Python 3.8.5 64-bit ('nprint': conda)",
   "metadata": {
    "interpreter": {
     "hash": "c4d4e6586a6adeaf82bcc2769084e4f9c7d78e0c71da8ddfd654da24b07e7fd4"
    }
   }
  }
 },
 "nbformat": 4,
 "nbformat_minor": 2,
 "cells": [
  {
   "source": [
    "## nPrintML example"
   ],
   "cell_type": "markdown",
   "metadata": {}
  },
  {
   "cell_type": "code",
   "execution_count": 1,
   "metadata": {},
   "outputs": [
    {
     "output_type": "stream",
     "name": "stdout",
     "text": [
      "[warn] nprint expected version for nprintML (1.1.6) does not match version on PATH (1.0.4 at /usr/local/bin/nprint)\n",
      "step:Net → NetResult(nprint_path=PosixPath('nprintml/run-aardvark-1614280151-23676/nprint'))\n",
      "Loading nPrint: nprintml/run-aardvark-1614280151-23676/nprint/test.npt\n",
      "Loaded 1 nprint\n",
      "  nPrint shape: (4921, 480)\n",
      "Loading labels: nprintml-data/single-pcap/labels.txt\n",
      "  number of labels: 9\n",
      "Attaching labels to nPrints\n",
      "  labels attached: missing labels for:\n",
      "    missing labels caused samples to be dropped: 0\n",
      "step:Label → LabelResult(features=                ipv4_ver_0  ipv4_ver_1  ...  ipv4_opt_319      label\n",
      "174.25.186.210           0           1  ...             0  encrypted\n",
      "174.25.186.210           0           1  ...             0  encrypted\n",
      "174.25.186.210           0           1  ...             0  encrypted\n",
      "174.25.186.210           0           1  ...             0  encrypted\n",
      "174.25.186.210           0           1  ...             0  encrypted\n",
      "...                    ...         ...  ...           ...        ...\n",
      "74.70.77.194             0           1  ...             0  encrypted\n",
      "74.70.77.194             0           1  ...             0  encrypted\n",
      "74.70.77.194             0           1  ...             0  encrypted\n",
      "74.70.77.194             0           1  ...             0  encrypted\n",
      "74.70.77.194             0           1  ...             0  encrypted\n",
      "\n",
      "[4921 rows x 481 columns])\n",
      "AutoGluon infers your prediction problem is: 'binary' (because only two unique label-values observed).\n",
      "\tIf 'binary' is not the correct problem_type, please manually specify the problem_type argument in fit() (You may specify problem_type as one of: ['binary', 'multiclass', 'regression'])\n",
      "AutoGluon will gauge predictive performance using evaluation metric: 'accuracy'\n",
      "AutoGluon will early stop models using evaluation metric: 'accuracy'\n",
      "step:Learn → LearnResult(graphs_path=PosixPath('nprintml/run-aardvark-1614280151-23676/model/graphs'), models_path=PosixPath('nprintml/run-aardvark-1614280151-23676/model/models'))\n",
      "done → namespace(features=                ipv4_ver_0  ipv4_ver_1  ...  ipv4_opt_319      label\n",
      "174.25.186.210           0           1  ...             0  encrypted\n",
      "174.25.186.210           0           1  ...             0  encrypted\n",
      "174.25.186.210           0           1  ...             0  encrypted\n",
      "174.25.186.210           0           1  ...             0  encrypted\n",
      "174.25.186.210           0           1  ...             0  encrypted\n",
      "...                    ...         ...  ...           ...        ...\n",
      "74.70.77.194             0           1  ...             0  encrypted\n",
      "74.70.77.194             0           1  ...             0  encrypted\n",
      "74.70.77.194             0           1  ...             0  encrypted\n",
      "74.70.77.194             0           1  ...             0  encrypted\n",
      "74.70.77.194             0           1  ...             0  encrypted\n",
      "\n",
      "[4921 rows x 481 columns], graphs_path=PosixPath('nprintml/run-aardvark-1614280151-23676/model/graphs'), models_path=PosixPath('nprintml/run-aardvark-1614280151-23676/model/models'), nprint_path=PosixPath('nprintml/run-aardvark-1614280151-23676/nprint'))\n"
     ]
    }
   ],
   "source": [
    "pcap_path = 'nprintml-data/single-pcap/test.pcap'\n",
    "labels_path = 'nprintml-data/single-pcap/labels.txt'\n",
    "\n",
    "nml_cmd = f'nprintml --ipv4 --pcap-file {pcap_path} --label-file {labels_path} --aggregator index'\n",
    "!{nml_cmd}"
   ]
  },
  {
   "cell_type": "code",
   "execution_count": null,
   "metadata": {},
   "outputs": [],
   "source": []
  }
 ]
}